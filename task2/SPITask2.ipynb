{
 "cells": [
  {
   "cell_type": "markdown",
   "metadata": {},
   "source": [
    "# Domácí úkol 1 (6 bodů)"
   ]
  },
  {
   "cell_type": "markdown",
   "metadata": {},
   "source": [
    "## Úkoly\n",
    "\n",
    "1. (1b) Z datového souboru načtěte text k analýze. Odhadněte pravděpodobnosti písmen (včetně mezer), které se v textu vyskytují. Takto získané empirické rozdělení graficky znázorněte. Pro další body předpokládejme, že je text vygenerován z homogenního markovského řetězce s diskrétním časem.\n",
    "2. (1.5b) Za tohoto předpokladu odhadněte matici přechodu.\n",
    "3. (2b) Na základě matice z předchozího bodu najděte stacionární rozdělení tohoto řetězce.\n",
    "4. (1.5b) Porovnejte stacionární rozdělení se získaným empirickým rozdělením. Tj. na hladině 5% otestujte hypotézu, že se empirické rozdělení z bodu 1 rovná stacionárnímu rozdělení."
   ]
  },
  {
   "cell_type": "markdown",
   "metadata": {},
   "source": [
    "## Řešení"
   ]
  },
  {
   "cell_type": "code",
   "execution_count": 15,
   "metadata": {},
   "outputs": [],
   "source": [
    "import math\n",
    "import tabulate\n",
    "import scipy\n",
    "import numpy as np\n",
    "import pandas as pd\n",
    "import matplotlib.pyplot as plt\n",
    "from scipy import stats\n",
    "from scipy.optimize import minimize"
   ]
  },
  {
   "cell_type": "markdown",
   "metadata": {},
   "source": [
    "### Zpracování souborů"
   ]
  },
  {
   "cell_type": "code",
   "execution_count": 16,
   "metadata": {},
   "outputs": [],
   "source": [
    "K = 15\n",
    "L = len(\"Martínek\")\n",
    "X = ((K*L*23) % (20)) + 1\n",
    "X_file = '0'*(3-len(str(X)))+str(X)+'.txt'"
   ]
  },
  {
   "cell_type": "code",
   "execution_count": 17,
   "metadata": {},
   "outputs": [],
   "source": [
    "def read_whole_file(filename):\n",
    "    with open(filename, 'r') as file:\n",
    "        return file.read()\n",
    "\n",
    "xfile = read_whole_file(X_file)"
   ]
  },
  {
   "cell_type": "markdown",
   "metadata": {},
   "source": [
    "### Příklad 1"
   ]
  },
  {
   "cell_type": "markdown",
   "metadata": {},
   "source": [
    "* Na následujícím grafu jsou znázorněny vypočítáně pravděpodobnosti výskytu daných písmen (znaků) v datovém souboru."
   ]
  },
  {
   "cell_type": "code",
   "execution_count": 18,
   "metadata": {},
   "outputs": [],
   "source": [
    "xletters, xletter_cnt = np.unique(list(xfile.replace(\"\\n\", \"\").lower()), return_counts=True)                "
   ]
  },
  {
   "cell_type": "code",
   "execution_count": 19,
   "metadata": {},
   "outputs": [
    {
     "data": {
      "image/png": "[encoded data removed]",
      "text/plain": [
       "<Figure size 1080x360 with 1 Axes>"
      ]
     },
     "metadata": {
      "needs_background": "light"
     },
     "output_type": "display_data"
    }
   ],
   "source": [
    "xletter_cnt_prob = xletter_cnt/xletter_cnt.sum()\n",
    "f, ax1 = plt.subplots(1, 1, figsize=(15,5))\n",
    "ax1.bar(xletters, xletter_cnt_prob, color=(0, 1, 0.48, 1))\n",
    "for tick in ax1.xaxis.get_major_ticks(): tick.label.set_fontsize(14) \n",
    "for tick in ax1.yaxis.get_major_ticks(): tick.label.set_fontsize(14)\n",
    "ax1.set_xlabel('znak', fontsize=16)\n",
    "ax1.set_ylabel('pravděpodobnost', fontsize=16)\n",
    "ax1.set_title('Soubor X', fontsize=22)\n",
    "plt.show()"
   ]
  },
  {
   "cell_type": "markdown",
   "metadata": {},
   "source": [
    "### Příklad 2"
   ]
  },
  {
   "cell_type": "markdown",
   "metadata": {},
   "source": [
    "Iterovali jsme přes celý textový soubor a napočítali konkrétní přechody mezi písmeny (znaky). Aby jsme získali matici přechodů bylo nutné, aby suma v řádku byla rovna 1 pro pravděpodobnost přechodu ze znaku i do znaku j. Takže jsme každý řádek matice vydělili jeho součtem. Níže je vidět výsledná matice přechodu."
   ]
  },
  {
   "cell_type": "code",
   "execution_count": 65,
   "metadata": {
    "scrolled": false
   },
   "outputs": [
    {
     "data": {
      "text/html": [
       " |<font size=\"2\" color=\"black\"> p </font>|<font size=\"2\" color=\"black\"> i </font>|<font size=\"2\" color=\"black\"> e </font>|<font size=\"2\" color=\"black\"> r </font>|<font size=\"2\" color=\"black\"> o </font>|<font size=\"2\" color=\"black\"> t </font>|<font size=\"2\" color=\"black\"> , </font>|<font size=\"2\" color=\"black\">   </font>|<font size=\"2\" color=\"black\"> d </font>|<font size=\"2\" color=\"black\"> g </font>|<font size=\"2\" color=\"black\"> f </font>|<font size=\"2\" color=\"black\"> b </font>|<font size=\"2\" color=\"black\"> l </font>|<font size=\"2\" color=\"black\"> u </font>|<font size=\"2\" color=\"black\"> m </font>|<font size=\"2\" color=\"black\"> y </font>|<font size=\"2\" color=\"black\"> w </font>|<font size=\"2\" color=\"black\"> a </font>|<font size=\"2\" color=\"black\"> . </font>|<font size=\"2\" color=\"black\"> h </font>|<font size=\"2\" color=\"black\"> c </font>|<font size=\"2\" color=\"black\"> n </font>|<font size=\"2\" color=\"black\"> s </font>|<font size=\"2\" color=\"black\"> v </font>|<font size=\"2\" color=\"black\"> k </font>|<font size=\"2\" color=\"black\"> q </font>|<font size=\"2\" color=\"black\"> j </font>|<font size=\"2\" color=\"black\"> x </font>|<font size=\"2\" color=\"black\"> z </font>|"
      ],
      "text/plain": [
       "<IPython.core.display.HTML object>"
      ]
     },
     "metadata": {},
     "output_type": "display_data"
    },
    {
     "data": {
      "text/html": [
       "p| <font size=\"2\" color=\"red\"><b>0.11</b></font>|<font size=\"2\" color=\"red\"><b>0.13</b></font>|<font size=\"2\" color=\"red\"><b>0.25</b></font>|<font size=\"2\" color=\"red\"><b>0.07</b></font>|<font size=\"2\" color=\"red\"><b>0.05</b></font>|<font size=\"2\" color=\"red\"><b>0.02</b></font>|<font size=\"2\" color=\"black\">0.00</font>|<font size=\"2\" color=\"red\"><b>0.08</b></font>|<font size=\"2\" color=\"black\">0.00</font>|<font size=\"2\" color=\"black\">0.00</font>|<font size=\"2\" color=\"black\">0.00</font>|<font size=\"2\" color=\"black\">0.00</font>|<font size=\"2\" color=\"red\"><b>0.15</b></font>|<font size=\"2\" color=\"red\"><b>0.07</b></font>|<font size=\"2\" color=\"black\">0.00</font>|<font size=\"2\" color=\"red\"><b>0.02</b></font>|<font size=\"2\" color=\"black\">0.00</font>|<font size=\"2\" color=\"red\"><b>0.05</b></font>|<font size=\"2\" color=\"black\">0.00</font>|<font size=\"2\" color=\"black\">0.00</font>|<font size=\"2\" color=\"black\">0.00</font>|<font size=\"2\" color=\"black\">0.00</font>|<font size=\"2\" color=\"black\">0.00</font>|<font size=\"2\" color=\"black\">0.00</font>|<font size=\"2\" color=\"black\">0.00</font>|<font size=\"2\" color=\"black\">0.00</font>|<font size=\"2\" color=\"black\">0.00</font>|<font size=\"2\" color=\"black\">0.00</font>|<font size=\"2\" color=\"black\">0.00</font>|"
      ],
      "text/plain": [
       "<IPython.core.display.HTML object>"
      ]
     },
     "metadata": {},
     "output_type": "display_data"
    },
    {
     "data": {
      "text/html": [
       "i| <font size=\"2\" color=\"red\"><b>0.01</b></font>|<font size=\"2\" color=\"black\">0.00</font>|<font size=\"2\" color=\"red\"><b>0.08</b></font>|<font size=\"2\" color=\"red\"><b>0.08</b></font>|<font size=\"2\" color=\"red\"><b>0.02</b></font>|<font size=\"2\" color=\"red\"><b>0.15</b></font>|<font size=\"2\" color=\"black\">0.00</font>|<font size=\"2\" color=\"red\"><b>0.06</b></font>|<font size=\"2\" color=\"red\"><b>0.03</b></font>|<font size=\"2\" color=\"red\"><b>0.04</b></font>|<font size=\"2\" color=\"red\"><b>0.03</b></font>|<font size=\"2\" color=\"black\">0.00</font>|<font size=\"2\" color=\"red\"><b>0.03</b></font>|<font size=\"2\" color=\"red\"><b>0.01</b></font>|<font size=\"2\" color=\"red\"><b>0.05</b></font>|<font size=\"2\" color=\"black\">0.00</font>|<font size=\"2\" color=\"black\">0.00</font>|<font size=\"2\" color=\"red\"><b>0.01</b></font>|<font size=\"2\" color=\"black\">0.00</font>|<font size=\"2\" color=\"black\">0.00</font>|<font size=\"2\" color=\"red\"><b>0.04</b></font>|<font size=\"2\" color=\"red\"><b>0.24</b></font>|<font size=\"2\" color=\"red\"><b>0.09</b></font>|<font size=\"2\" color=\"red\"><b>0.02</b></font>|<font size=\"2\" color=\"red\"><b>0.01</b></font>|<font size=\"2\" color=\"black\">0.00</font>|<font size=\"2\" color=\"black\">0.00</font>|<font size=\"2\" color=\"black\">0.00</font>|<font size=\"2\" color=\"black\">0.00</font>|"
      ],
      "text/plain": [
       "<IPython.core.display.HTML object>"
      ]
     },
     "metadata": {},
     "output_type": "display_data"
    },
    {
     "data": {
      "text/html": [
       "e| <font size=\"2\" color=\"red\"><b>0.01</b></font>|<font size=\"2\" color=\"red\"><b>0.02</b></font>|<font size=\"2\" color=\"red\"><b>0.03</b></font>|<font size=\"2\" color=\"red\"><b>0.15</b></font>|<font size=\"2\" color=\"black\">0.00</font>|<font size=\"2\" color=\"red\"><b>0.02</b></font>|<font size=\"2\" color=\"black\">0.00</font>|<font size=\"2\" color=\"red\"><b>0.35</b></font>|<font size=\"2\" color=\"red\"><b>0.10</b></font>|<font size=\"2\" color=\"red\"><b>0.01</b></font>|<font size=\"2\" color=\"black\">0.00</font>|<font size=\"2\" color=\"black\">0.00</font>|<font size=\"2\" color=\"red\"><b>0.04</b></font>|<font size=\"2\" color=\"black\">0.00</font>|<font size=\"2\" color=\"red\"><b>0.01</b></font>|<font size=\"2\" color=\"red\"><b>0.02</b></font>|<font size=\"2\" color=\"black\">0.00</font>|<font size=\"2\" color=\"red\"><b>0.07</b></font>|<font size=\"2\" color=\"black\">0.00</font>|<font size=\"2\" color=\"black\">0.00</font>|<font size=\"2\" color=\"red\"><b>0.01</b></font>|<font size=\"2\" color=\"red\"><b>0.09</b></font>|<font size=\"2\" color=\"red\"><b>0.05</b></font>|<font size=\"2\" color=\"red\"><b>0.01</b></font>|<font size=\"2\" color=\"black\">0.00</font>|<font size=\"2\" color=\"black\">0.00</font>|<font size=\"2\" color=\"black\">0.00</font>|<font size=\"2\" color=\"black\">0.00</font>|<font size=\"2\" color=\"black\">0.00</font>|"
      ],
      "text/plain": [
       "<IPython.core.display.HTML object>"
      ]
     },
     "metadata": {},
     "output_type": "display_data"
    },
    {
     "data": {
      "text/html": [
       "r| <font size=\"2\" color=\"black\">0.00</font>|<font size=\"2\" color=\"red\"><b>0.12</b></font>|<font size=\"2\" color=\"red\"><b>0.25</b></font>|<font size=\"2\" color=\"red\"><b>0.04</b></font>|<font size=\"2\" color=\"red\"><b>0.11</b></font>|<font size=\"2\" color=\"red\"><b>0.04</b></font>|<font size=\"2\" color=\"black\">0.00</font>|<font size=\"2\" color=\"red\"><b>0.18</b></font>|<font size=\"2\" color=\"red\"><b>0.03</b></font>|<font size=\"2\" color=\"red\"><b>0.01</b></font>|<font size=\"2\" color=\"red\"><b>0.01</b></font>|<font size=\"2\" color=\"black\">0.00</font>|<font size=\"2\" color=\"red\"><b>0.01</b></font>|<font size=\"2\" color=\"red\"><b>0.01</b></font>|<font size=\"2\" color=\"red\"><b>0.01</b></font>|<font size=\"2\" color=\"red\"><b>0.02</b></font>|<font size=\"2\" color=\"black\">0.00</font>|<font size=\"2\" color=\"red\"><b>0.06</b></font>|<font size=\"2\" color=\"black\">0.00</font>|<font size=\"2\" color=\"black\">0.00</font>|<font size=\"2\" color=\"black\">0.00</font>|<font size=\"2\" color=\"red\"><b>0.03</b></font>|<font size=\"2\" color=\"red\"><b>0.04</b></font>|<font size=\"2\" color=\"black\">0.00</font>|<font size=\"2\" color=\"red\"><b>0.02</b></font>|<font size=\"2\" color=\"black\">0.00</font>|<font size=\"2\" color=\"black\">0.00</font>|<font size=\"2\" color=\"black\">0.00</font>|<font size=\"2\" color=\"black\">0.00</font>|"
      ],
      "text/plain": [
       "<IPython.core.display.HTML object>"
      ]
     },
     "metadata": {},
     "output_type": "display_data"
    },
    {
     "data": {
      "text/html": [
       "o| <font size=\"2\" color=\"red\"><b>0.01</b></font>|<font size=\"2\" color=\"red\"><b>0.01</b></font>|<font size=\"2\" color=\"black\">0.00</font>|<font size=\"2\" color=\"red\"><b>0.11</b></font>|<font size=\"2\" color=\"red\"><b>0.05</b></font>|<font size=\"2\" color=\"red\"><b>0.07</b></font>|<font size=\"2\" color=\"black\">0.00</font>|<font size=\"2\" color=\"red\"><b>0.12</b></font>|<font size=\"2\" color=\"red\"><b>0.01</b></font>|<font size=\"2\" color=\"red\"><b>0.05</b></font>|<font size=\"2\" color=\"red\"><b>0.11</b></font>|<font size=\"2\" color=\"black\">0.00</font>|<font size=\"2\" color=\"red\"><b>0.05</b></font>|<font size=\"2\" color=\"red\"><b>0.14</b></font>|<font size=\"2\" color=\"red\"><b>0.06</b></font>|<font size=\"2\" color=\"black\">0.00</font>|<font size=\"2\" color=\"red\"><b>0.03</b></font>|<font size=\"2\" color=\"black\">0.00</font>|<font size=\"2\" color=\"black\">0.00</font>|<font size=\"2\" color=\"black\">0.00</font>|<font size=\"2\" color=\"black\">0.00</font>|<font size=\"2\" color=\"red\"><b>0.11</b></font>|<font size=\"2\" color=\"red\"><b>0.02</b></font>|<font size=\"2\" color=\"red\"><b>0.01</b></font>|<font size=\"2\" color=\"red\"><b>0.01</b></font>|<font size=\"2\" color=\"black\">0.00</font>|<font size=\"2\" color=\"black\">0.00</font>|<font size=\"2\" color=\"black\">0.00</font>|<font size=\"2\" color=\"red\"><b>0.01</b></font>|"
      ],
      "text/plain": [
       "<IPython.core.display.HTML object>"
      ]
     },
     "metadata": {},
     "output_type": "display_data"
    },
    {
     "data": {
      "text/html": [
       "t| <font size=\"2\" color=\"black\">0.00</font>|<font size=\"2\" color=\"red\"><b>0.03</b></font>|<font size=\"2\" color=\"red\"><b>0.06</b></font>|<font size=\"2\" color=\"red\"><b>0.03</b></font>|<font size=\"2\" color=\"red\"><b>0.09</b></font>|<font size=\"2\" color=\"red\"><b>0.03</b></font>|<font size=\"2\" color=\"black\">0.00</font>|<font size=\"2\" color=\"red\"><b>0.29</b></font>|<font size=\"2\" color=\"black\">0.00</font>|<font size=\"2\" color=\"black\">0.00</font>|<font size=\"2\" color=\"black\">0.00</font>|<font size=\"2\" color=\"black\">0.00</font>|<font size=\"2\" color=\"red\"><b>0.04</b></font>|<font size=\"2\" color=\"red\"><b>0.01</b></font>|<font size=\"2\" color=\"black\">0.00</font>|<font size=\"2\" color=\"black\">0.00</font>|<font size=\"2\" color=\"black\">0.00</font>|<font size=\"2\" color=\"red\"><b>0.02</b></font>|<font size=\"2\" color=\"black\">0.00</font>|<font size=\"2\" color=\"red\"><b>0.35</b></font>|<font size=\"2\" color=\"black\">0.00</font>|<font size=\"2\" color=\"black\">0.00</font>|<font size=\"2\" color=\"red\"><b>0.03</b></font>|<font size=\"2\" color=\"black\">0.00</font>|<font size=\"2\" color=\"black\">0.00</font>|<font size=\"2\" color=\"black\">0.00</font>|<font size=\"2\" color=\"black\">0.00</font>|<font size=\"2\" color=\"black\">0.00</font>|<font size=\"2\" color=\"black\">0.00</font>|"
      ],
      "text/plain": [
       "<IPython.core.display.HTML object>"
      ]
     },
     "metadata": {},
     "output_type": "display_data"
    },
    {
     "data": {
      "text/html": [
       ",| <font size=\"2\" color=\"black\">0.00</font>|<font size=\"2\" color=\"black\">0.00</font>|<font size=\"2\" color=\"black\">0.00</font>|<font size=\"2\" color=\"black\">0.00</font>|<font size=\"2\" color=\"black\">0.00</font>|<font size=\"2\" color=\"black\">0.00</font>|<font size=\"2\" color=\"black\">0.00</font>|<font size=\"2\" color=\"red\"><b>1.00</b></font>|<font size=\"2\" color=\"black\">0.00</font>|<font size=\"2\" color=\"black\">0.00</font>|<font size=\"2\" color=\"black\">0.00</font>|<font size=\"2\" color=\"black\">0.00</font>|<font size=\"2\" color=\"black\">0.00</font>|<font size=\"2\" color=\"black\">0.00</font>|<font size=\"2\" color=\"black\">0.00</font>|<font size=\"2\" color=\"black\">0.00</font>|<font size=\"2\" color=\"black\">0.00</font>|<font size=\"2\" color=\"black\">0.00</font>|<font size=\"2\" color=\"black\">0.00</font>|<font size=\"2\" color=\"black\">0.00</font>|<font size=\"2\" color=\"black\">0.00</font>|<font size=\"2\" color=\"black\">0.00</font>|<font size=\"2\" color=\"black\">0.00</font>|<font size=\"2\" color=\"black\">0.00</font>|<font size=\"2\" color=\"black\">0.00</font>|<font size=\"2\" color=\"black\">0.00</font>|<font size=\"2\" color=\"black\">0.00</font>|<font size=\"2\" color=\"black\">0.00</font>|<font size=\"2\" color=\"black\">0.00</font>|"
      ],
      "text/plain": [
       "<IPython.core.display.HTML object>"
      ]
     },
     "metadata": {},
     "output_type": "display_data"
    },
    {
     "data": {
      "text/html": [
       " | <font size=\"2\" color=\"red\"><b>0.04</b></font>|<font size=\"2\" color=\"red\"><b>0.03</b></font>|<font size=\"2\" color=\"red\"><b>0.01</b></font>|<font size=\"2\" color=\"red\"><b>0.01</b></font>|<font size=\"2\" color=\"red\"><b>0.06</b></font>|<font size=\"2\" color=\"red\"><b>0.14</b></font>|<font size=\"2\" color=\"black\">0.00</font>|<font size=\"2\" color=\"black\">0.00</font>|<font size=\"2\" color=\"red\"><b>0.05</b></font>|<font size=\"2\" color=\"red\"><b>0.02</b></font>|<font size=\"2\" color=\"red\"><b>0.05</b></font>|<font size=\"2\" color=\"red\"><b>0.06</b></font>|<font size=\"2\" color=\"red\"><b>0.04</b></font>|<font size=\"2\" color=\"black\">0.00</font>|<font size=\"2\" color=\"red\"><b>0.04</b></font>|<font size=\"2\" color=\"red\"><b>0.01</b></font>|<font size=\"2\" color=\"red\"><b>0.07</b></font>|<font size=\"2\" color=\"red\"><b>0.13</b></font>|<font size=\"2\" color=\"black\">0.00</font>|<font size=\"2\" color=\"red\"><b>0.09</b></font>|<font size=\"2\" color=\"red\"><b>0.04</b></font>|<font size=\"2\" color=\"red\"><b>0.02</b></font>|<font size=\"2\" color=\"red\"><b>0.06</b></font>|<font size=\"2\" color=\"red\"><b>0.01</b></font>|<font size=\"2\" color=\"red\"><b>0.01</b></font>|<font size=\"2\" color=\"black\">0.00</font>|<font size=\"2\" color=\"red\"><b>0.01</b></font>|<font size=\"2\" color=\"black\">0.00</font>|<font size=\"2\" color=\"black\">0.00</font>|"
      ],
      "text/plain": [
       "<IPython.core.display.HTML object>"
      ]
     },
     "metadata": {},
     "output_type": "display_data"
    },
    {
     "data": {
      "text/html": [
       "d| <font size=\"2\" color=\"black\">0.00</font>|<font size=\"2\" color=\"red\"><b>0.05</b></font>|<font size=\"2\" color=\"red\"><b>0.10</b></font>|<font size=\"2\" color=\"red\"><b>0.04</b></font>|<font size=\"2\" color=\"red\"><b>0.10</b></font>|<font size=\"2\" color=\"black\">0.00</font>|<font size=\"2\" color=\"black\">0.00</font>|<font size=\"2\" color=\"red\"><b>0.58</b></font>|<font size=\"2\" color=\"red\"><b>0.01</b></font>|<font size=\"2\" color=\"black\">0.00</font>|<font size=\"2\" color=\"red\"><b>0.01</b></font>|<font size=\"2\" color=\"black\">0.00</font>|<font size=\"2\" color=\"red\"><b>0.02</b></font>|<font size=\"2\" color=\"red\"><b>0.01</b></font>|<font size=\"2\" color=\"black\">0.00</font>|<font size=\"2\" color=\"red\"><b>0.01</b></font>|<font size=\"2\" color=\"black\">0.00</font>|<font size=\"2\" color=\"red\"><b>0.04</b></font>|<font size=\"2\" color=\"black\">0.00</font>|<font size=\"2\" color=\"black\">0.00</font>|<font size=\"2\" color=\"black\">0.00</font>|<font size=\"2\" color=\"black\">0.00</font>|<font size=\"2\" color=\"red\"><b>0.04</b></font>|<font size=\"2\" color=\"black\">0.00</font>|<font size=\"2\" color=\"black\">0.00</font>|<font size=\"2\" color=\"black\">0.00</font>|<font size=\"2\" color=\"black\">0.00</font>|<font size=\"2\" color=\"black\">0.00</font>|<font size=\"2\" color=\"black\">0.00</font>|"
      ],
      "text/plain": [
       "<IPython.core.display.HTML object>"
      ]
     },
     "metadata": {},
     "output_type": "display_data"
    },
    {
     "data": {
      "text/html": [
       "g| <font size=\"2\" color=\"black\">0.00</font>|<font size=\"2\" color=\"red\"><b>0.04</b></font>|<font size=\"2\" color=\"red\"><b>0.09</b></font>|<font size=\"2\" color=\"red\"><b>0.12</b></font>|<font size=\"2\" color=\"red\"><b>0.03</b></font>|<font size=\"2\" color=\"red\"><b>0.01</b></font>|<font size=\"2\" color=\"black\">0.00</font>|<font size=\"2\" color=\"red\"><b>0.32</b></font>|<font size=\"2\" color=\"black\">0.00</font>|<font size=\"2\" color=\"red\"><b>0.04</b></font>|<font size=\"2\" color=\"black\">0.00</font>|<font size=\"2\" color=\"black\">0.00</font>|<font size=\"2\" color=\"red\"><b>0.01</b></font>|<font size=\"2\" color=\"red\"><b>0.04</b></font>|<font size=\"2\" color=\"black\">0.00</font>|<font size=\"2\" color=\"red\"><b>0.02</b></font>|<font size=\"2\" color=\"black\">0.00</font>|<font size=\"2\" color=\"red\"><b>0.04</b></font>|<font size=\"2\" color=\"black\">0.00</font>|<font size=\"2\" color=\"red\"><b>0.12</b></font>|<font size=\"2\" color=\"black\">0.00</font>|<font size=\"2\" color=\"red\"><b>0.01</b></font>|<font size=\"2\" color=\"red\"><b>0.11</b></font>|<font size=\"2\" color=\"black\">0.00</font>|<font size=\"2\" color=\"black\">0.00</font>|<font size=\"2\" color=\"black\">0.00</font>|<font size=\"2\" color=\"black\">0.00</font>|<font size=\"2\" color=\"black\">0.00</font>|<font size=\"2\" color=\"black\">0.00</font>|"
      ],
      "text/plain": [
       "<IPython.core.display.HTML object>"
      ]
     },
     "metadata": {},
     "output_type": "display_data"
    },
    {
     "data": {
      "text/html": [
       "f| <font size=\"2\" color=\"black\">0.00</font>|<font size=\"2\" color=\"red\"><b>0.07</b></font>|<font size=\"2\" color=\"red\"><b>0.09</b></font>|<font size=\"2\" color=\"red\"><b>0.10</b></font>|<font size=\"2\" color=\"red\"><b>0.19</b></font>|<font size=\"2\" color=\"red\"><b>0.04</b></font>|<font size=\"2\" color=\"black\">0.00</font>|<font size=\"2\" color=\"red\"><b>0.33</b></font>|<font size=\"2\" color=\"black\">0.00</font>|<font size=\"2\" color=\"black\">0.00</font>|<font size=\"2\" color=\"red\"><b>0.04</b></font>|<font size=\"2\" color=\"black\">0.00</font>|<font size=\"2\" color=\"red\"><b>0.04</b></font>|<font size=\"2\" color=\"red\"><b>0.07</b></font>|<font size=\"2\" color=\"black\">0.00</font>|<font size=\"2\" color=\"black\">0.00</font>|<font size=\"2\" color=\"black\">0.00</font>|<font size=\"2\" color=\"red\"><b>0.06</b></font>|<font size=\"2\" color=\"black\">0.00</font>|<font size=\"2\" color=\"black\">0.00</font>|<font size=\"2\" color=\"black\">0.00</font>|<font size=\"2\" color=\"black\">0.00</font>|<font size=\"2\" color=\"black\">0.00</font>|<font size=\"2\" color=\"black\">0.00</font>|<font size=\"2\" color=\"black\">0.00</font>|<font size=\"2\" color=\"black\">0.00</font>|<font size=\"2\" color=\"black\">0.00</font>|<font size=\"2\" color=\"black\">0.00</font>|<font size=\"2\" color=\"black\">0.00</font>|"
      ],
      "text/plain": [
       "<IPython.core.display.HTML object>"
      ]
     },
     "metadata": {},
     "output_type": "display_data"
    },
    {
     "data": {
      "text/html": [
       "b| <font size=\"2\" color=\"black\">0.00</font>|<font size=\"2\" color=\"red\"><b>0.10</b></font>|<font size=\"2\" color=\"red\"><b>0.21</b></font>|<font size=\"2\" color=\"red\"><b>0.13</b></font>|<font size=\"2\" color=\"red\"><b>0.11</b></font>|<font size=\"2\" color=\"black\">0.00</font>|<font size=\"2\" color=\"black\">0.00</font>|<font size=\"2\" color=\"red\"><b>0.02</b></font>|<font size=\"2\" color=\"black\">0.00</font>|<font size=\"2\" color=\"black\">0.00</font>|<font size=\"2\" color=\"black\">0.00</font>|<font size=\"2\" color=\"red\"><b>0.02</b></font>|<font size=\"2\" color=\"red\"><b>0.13</b></font>|<font size=\"2\" color=\"red\"><b>0.13</b></font>|<font size=\"2\" color=\"black\">0.00</font>|<font size=\"2\" color=\"red\"><b>0.03</b></font>|<font size=\"2\" color=\"black\">0.00</font>|<font size=\"2\" color=\"red\"><b>0.10</b></font>|<font size=\"2\" color=\"black\">0.00</font>|<font size=\"2\" color=\"black\">0.00</font>|<font size=\"2\" color=\"black\">0.00</font>|<font size=\"2\" color=\"black\">0.00</font>|<font size=\"2\" color=\"black\">0.00</font>|<font size=\"2\" color=\"black\">0.00</font>|<font size=\"2\" color=\"black\">0.00</font>|<font size=\"2\" color=\"black\">0.00</font>|<font size=\"2\" color=\"black\">0.00</font>|<font size=\"2\" color=\"black\">0.00</font>|<font size=\"2\" color=\"black\">0.00</font>|"
      ],
      "text/plain": [
       "<IPython.core.display.HTML object>"
      ]
     },
     "metadata": {},
     "output_type": "display_data"
    },
    {
     "data": {
      "text/html": [
       "l| <font size=\"2\" color=\"black\">0.00</font>|<font size=\"2\" color=\"red\"><b>0.12</b></font>|<font size=\"2\" color=\"red\"><b>0.21</b></font>|<font size=\"2\" color=\"black\">0.00</font>|<font size=\"2\" color=\"red\"><b>0.11</b></font>|<font size=\"2\" color=\"red\"><b>0.01</b></font>|<font size=\"2\" color=\"black\">0.00</font>|<font size=\"2\" color=\"red\"><b>0.10</b></font>|<font size=\"2\" color=\"red\"><b>0.09</b></font>|<font size=\"2\" color=\"red\"><b>0.02</b></font>|<font size=\"2\" color=\"red\"><b>0.01</b></font>|<font size=\"2\" color=\"black\">0.00</font>|<font size=\"2\" color=\"red\"><b>0.12</b></font>|<font size=\"2\" color=\"red\"><b>0.03</b></font>|<font size=\"2\" color=\"black\">0.00</font>|<font size=\"2\" color=\"red\"><b>0.07</b></font>|<font size=\"2\" color=\"black\">0.00</font>|<font size=\"2\" color=\"red\"><b>0.07</b></font>|<font size=\"2\" color=\"black\">0.00</font>|<font size=\"2\" color=\"black\">0.00</font>|<font size=\"2\" color=\"black\">0.00</font>|<font size=\"2\" color=\"black\">0.00</font>|<font size=\"2\" color=\"red\"><b>0.03</b></font>|<font size=\"2\" color=\"black\">0.00</font>|<font size=\"2\" color=\"red\"><b>0.02</b></font>|<font size=\"2\" color=\"black\">0.00</font>|<font size=\"2\" color=\"black\">0.00</font>|<font size=\"2\" color=\"black\">0.00</font>|<font size=\"2\" color=\"black\">0.00</font>|"
      ],
      "text/plain": [
       "<IPython.core.display.HTML object>"
      ]
     },
     "metadata": {},
     "output_type": "display_data"
    },
    {
     "data": {
      "text/html": [
       "u| <font size=\"2\" color=\"red\"><b>0.06</b></font>|<font size=\"2\" color=\"red\"><b>0.02</b></font>|<font size=\"2\" color=\"red\"><b>0.02</b></font>|<font size=\"2\" color=\"red\"><b>0.10</b></font>|<font size=\"2\" color=\"black\">0.00</font>|<font size=\"2\" color=\"red\"><b>0.15</b></font>|<font size=\"2\" color=\"black\">0.00</font>|<font size=\"2\" color=\"red\"><b>0.01</b></font>|<font size=\"2\" color=\"red\"><b>0.02</b></font>|<font size=\"2\" color=\"red\"><b>0.10</b></font>|<font size=\"2\" color=\"black\">0.00</font>|<font size=\"2\" color=\"red\"><b>0.01</b></font>|<font size=\"2\" color=\"red\"><b>0.12</b></font>|<font size=\"2\" color=\"black\">0.00</font>|<font size=\"2\" color=\"red\"><b>0.04</b></font>|<font size=\"2\" color=\"red\"><b>0.01</b></font>|<font size=\"2\" color=\"black\">0.00</font>|<font size=\"2\" color=\"red\"><b>0.02</b></font>|<font size=\"2\" color=\"black\">0.00</font>|<font size=\"2\" color=\"black\">0.00</font>|<font size=\"2\" color=\"red\"><b>0.03</b></font>|<font size=\"2\" color=\"red\"><b>0.14</b></font>|<font size=\"2\" color=\"red\"><b>0.14</b></font>|<font size=\"2\" color=\"black\">0.00</font>|<font size=\"2\" color=\"red\"><b>0.01</b></font>|<font size=\"2\" color=\"black\">0.00</font>|<font size=\"2\" color=\"black\">0.00</font>|<font size=\"2\" color=\"black\">0.00</font>|<font size=\"2\" color=\"red\"><b>0.01</b></font>|"
      ],
      "text/plain": [
       "<IPython.core.display.HTML object>"
      ]
     },
     "metadata": {},
     "output_type": "display_data"
    },
    {
     "data": {
      "text/html": [
       "m| <font size=\"2\" color=\"red\"><b>0.02</b></font>|<font size=\"2\" color=\"red\"><b>0.07</b></font>|<font size=\"2\" color=\"red\"><b>0.25</b></font>|<font size=\"2\" color=\"black\">0.00</font>|<font size=\"2\" color=\"red\"><b>0.09</b></font>|<font size=\"2\" color=\"black\">0.00</font>|<font size=\"2\" color=\"red\"><b>0.01</b></font>|<font size=\"2\" color=\"red\"><b>0.20</b></font>|<font size=\"2\" color=\"black\">0.00</font>|<font size=\"2\" color=\"black\">0.00</font>|<font size=\"2\" color=\"black\">0.00</font>|<font size=\"2\" color=\"red\"><b>0.05</b></font>|<font size=\"2\" color=\"black\">0.00</font>|<font size=\"2\" color=\"red\"><b>0.05</b></font>|<font size=\"2\" color=\"black\">0.00</font>|<font size=\"2\" color=\"black\">0.00</font>|<font size=\"2\" color=\"black\">0.00</font>|<font size=\"2\" color=\"red\"><b>0.20</b></font>|<font size=\"2\" color=\"black\">0.00</font>|<font size=\"2\" color=\"black\">0.00</font>|<font size=\"2\" color=\"black\">0.00</font>|<font size=\"2\" color=\"black\">0.00</font>|<font size=\"2\" color=\"red\"><b>0.05</b></font>|<font size=\"2\" color=\"black\">0.00</font>|<font size=\"2\" color=\"black\">0.00</font>|<font size=\"2\" color=\"black\">0.00</font>|<font size=\"2\" color=\"black\">0.00</font>|<font size=\"2\" color=\"black\">0.00</font>|<font size=\"2\" color=\"black\">0.00</font>|"
      ],
      "text/plain": [
       "<IPython.core.display.HTML object>"
      ]
     },
     "metadata": {},
     "output_type": "display_data"
    },
    {
     "data": {
      "text/html": [
       "y| <font size=\"2\" color=\"black\">0.00</font>|<font size=\"2\" color=\"black\">0.00</font>|<font size=\"2\" color=\"red\"><b>0.09</b></font>|<font size=\"2\" color=\"black\">0.00</font>|<font size=\"2\" color=\"red\"><b>0.04</b></font>|<font size=\"2\" color=\"red\"><b>0.01</b></font>|<font size=\"2\" color=\"black\">0.00</font>|<font size=\"2\" color=\"red\"><b>0.80</b></font>|<font size=\"2\" color=\"black\">0.00</font>|<font size=\"2\" color=\"black\">0.00</font>|<font size=\"2\" color=\"black\">0.00</font>|<font size=\"2\" color=\"red\"><b>0.01</b></font>|<font size=\"2\" color=\"black\">0.00</font>|<font size=\"2\" color=\"black\">0.00</font>|<font size=\"2\" color=\"black\">0.00</font>|<font size=\"2\" color=\"black\">0.00</font>|<font size=\"2\" color=\"black\">0.00</font>|<font size=\"2\" color=\"red\"><b>0.01</b></font>|<font size=\"2\" color=\"black\">0.00</font>|<font size=\"2\" color=\"black\">0.00</font>|<font size=\"2\" color=\"black\">0.00</font>|<font size=\"2\" color=\"black\">0.00</font>|<font size=\"2\" color=\"red\"><b>0.02</b></font>|<font size=\"2\" color=\"black\">0.00</font>|<font size=\"2\" color=\"red\"><b>0.01</b></font>|<font size=\"2\" color=\"black\">0.00</font>|<font size=\"2\" color=\"black\">0.00</font>|<font size=\"2\" color=\"black\">0.00</font>|<font size=\"2\" color=\"black\">0.00</font>|"
      ],
      "text/plain": [
       "<IPython.core.display.HTML object>"
      ]
     },
     "metadata": {},
     "output_type": "display_data"
    },
    {
     "data": {
      "text/html": [
       "w| <font size=\"2\" color=\"black\">0.00</font>|<font size=\"2\" color=\"red\"><b>0.12</b></font>|<font size=\"2\" color=\"red\"><b>0.17</b></font>|<font size=\"2\" color=\"red\"><b>0.01</b></font>|<font size=\"2\" color=\"red\"><b>0.12</b></font>|<font size=\"2\" color=\"black\">0.00</font>|<font size=\"2\" color=\"black\">0.00</font>|<font size=\"2\" color=\"red\"><b>0.08</b></font>|<font size=\"2\" color=\"black\">0.00</font>|<font size=\"2\" color=\"black\">0.00</font>|<font size=\"2\" color=\"black\">0.00</font>|<font size=\"2\" color=\"black\">0.00</font>|<font size=\"2\" color=\"red\"><b>0.01</b></font>|<font size=\"2\" color=\"black\">0.00</font>|<font size=\"2\" color=\"black\">0.00</font>|<font size=\"2\" color=\"black\">0.00</font>|<font size=\"2\" color=\"black\">0.00</font>|<font size=\"2\" color=\"red\"><b>0.27</b></font>|<font size=\"2\" color=\"black\">0.00</font>|<font size=\"2\" color=\"red\"><b>0.14</b></font>|<font size=\"2\" color=\"black\">0.00</font>|<font size=\"2\" color=\"red\"><b>0.06</b></font>|<font size=\"2\" color=\"red\"><b>0.02</b></font>|<font size=\"2\" color=\"black\">0.00</font>|<font size=\"2\" color=\"red\"><b>0.01</b></font>|<font size=\"2\" color=\"black\">0.00</font>|<font size=\"2\" color=\"black\">0.00</font>|<font size=\"2\" color=\"black\">0.00</font>|<font size=\"2\" color=\"black\">0.00</font>|"
      ],
      "text/plain": [
       "<IPython.core.display.HTML object>"
      ]
     },
     "metadata": {},
     "output_type": "display_data"
    },
    {
     "data": {
      "text/html": [
       "a| <font size=\"2\" color=\"red\"><b>0.01</b></font>|<font size=\"2\" color=\"red\"><b>0.02</b></font>|<font size=\"2\" color=\"red\"><b>0.01</b></font>|<font size=\"2\" color=\"red\"><b>0.11</b></font>|<font size=\"2\" color=\"black\">0.00</font>|<font size=\"2\" color=\"red\"><b>0.10</b></font>|<font size=\"2\" color=\"black\">0.00</font>|<font size=\"2\" color=\"red\"><b>0.06</b></font>|<font size=\"2\" color=\"red\"><b>0.07</b></font>|<font size=\"2\" color=\"red\"><b>0.03</b></font>|<font size=\"2\" color=\"red\"><b>0.01</b></font>|<font size=\"2\" color=\"red\"><b>0.03</b></font>|<font size=\"2\" color=\"red\"><b>0.06</b></font>|<font size=\"2\" color=\"red\"><b>0.02</b></font>|<font size=\"2\" color=\"red\"><b>0.01</b></font>|<font size=\"2\" color=\"red\"><b>0.04</b></font>|<font size=\"2\" color=\"red\"><b>0.02</b></font>|<font size=\"2\" color=\"black\">0.00</font>|<font size=\"2\" color=\"black\">0.00</font>|<font size=\"2\" color=\"black\">0.00</font>|<font size=\"2\" color=\"red\"><b>0.04</b></font>|<font size=\"2\" color=\"red\"><b>0.26</b></font>|<font size=\"2\" color=\"red\"><b>0.08</b></font>|<font size=\"2\" color=\"red\"><b>0.01</b></font>|<font size=\"2\" color=\"red\"><b>0.02</b></font>|<font size=\"2\" color=\"black\">0.00</font>|<font size=\"2\" color=\"black\">0.00</font>|<font size=\"2\" color=\"black\">0.00</font>|<font size=\"2\" color=\"black\">0.00</font>|"
      ],
      "text/plain": [
       "<IPython.core.display.HTML object>"
      ]
     },
     "metadata": {},
     "output_type": "display_data"
    },
    {
     "data": {
      "text/html": [
       ".| <font size=\"2\" color=\"black\">0.00</font>|<font size=\"2\" color=\"black\">0.00</font>|<font size=\"2\" color=\"black\">0.00</font>|<font size=\"2\" color=\"black\">0.00</font>|<font size=\"2\" color=\"black\">0.00</font>|<font size=\"2\" color=\"black\">0.00</font>|<font size=\"2\" color=\"black\">0.00</font>|<font size=\"2\" color=\"red\"><b>1.00</b></font>|<font size=\"2\" color=\"black\">0.00</font>|<font size=\"2\" color=\"black\">0.00</font>|<font size=\"2\" color=\"black\">0.00</font>|<font size=\"2\" color=\"black\">0.00</font>|<font size=\"2\" color=\"black\">0.00</font>|<font size=\"2\" color=\"black\">0.00</font>|<font size=\"2\" color=\"black\">0.00</font>|<font size=\"2\" color=\"black\">0.00</font>|<font size=\"2\" color=\"black\">0.00</font>|<font size=\"2\" color=\"black\">0.00</font>|<font size=\"2\" color=\"black\">0.00</font>|<font size=\"2\" color=\"black\">0.00</font>|<font size=\"2\" color=\"black\">0.00</font>|<font size=\"2\" color=\"black\">0.00</font>|<font size=\"2\" color=\"black\">0.00</font>|<font size=\"2\" color=\"black\">0.00</font>|<font size=\"2\" color=\"black\">0.00</font>|<font size=\"2\" color=\"black\">0.00</font>|<font size=\"2\" color=\"black\">0.00</font>|<font size=\"2\" color=\"black\">0.00</font>|<font size=\"2\" color=\"black\">0.00</font>|"
      ],
      "text/plain": [
       "<IPython.core.display.HTML object>"
      ]
     },
     "metadata": {},
     "output_type": "display_data"
    },
    {
     "data": {
      "text/html": [
       "h| <font size=\"2\" color=\"black\">0.00</font>|<font size=\"2\" color=\"red\"><b>0.13</b></font>|<font size=\"2\" color=\"red\"><b>0.48</b></font>|<font size=\"2\" color=\"black\">0.00</font>|<font size=\"2\" color=\"red\"><b>0.08</b></font>|<font size=\"2\" color=\"red\"><b>0.04</b></font>|<font size=\"2\" color=\"black\">0.00</font>|<font size=\"2\" color=\"red\"><b>0.09</b></font>|<font size=\"2\" color=\"black\">0.00</font>|<font size=\"2\" color=\"black\">0.00</font>|<font size=\"2\" color=\"black\">0.00</font>|<font size=\"2\" color=\"black\">0.00</font>|<font size=\"2\" color=\"black\">0.00</font>|<font size=\"2\" color=\"red\"><b>0.03</b></font>|<font size=\"2\" color=\"black\">0.00</font>|<font size=\"2\" color=\"black\">0.00</font>|<font size=\"2\" color=\"black\">0.00</font>|<font size=\"2\" color=\"red\"><b>0.15</b></font>|<font size=\"2\" color=\"black\">0.00</font>|<font size=\"2\" color=\"black\">0.00</font>|<font size=\"2\" color=\"black\">0.00</font>|<font size=\"2\" color=\"black\">0.00</font>|<font size=\"2\" color=\"black\">0.00</font>|<font size=\"2\" color=\"black\">0.00</font>|<font size=\"2\" color=\"black\">0.00</font>|<font size=\"2\" color=\"black\">0.00</font>|<font size=\"2\" color=\"black\">0.00</font>|<font size=\"2\" color=\"black\">0.00</font>|<font size=\"2\" color=\"black\">0.00</font>|"
      ],
      "text/plain": [
       "<IPython.core.display.HTML object>"
      ]
     },
     "metadata": {},
     "output_type": "display_data"
    },
    {
     "data": {
      "text/html": [
       "c| <font size=\"2\" color=\"black\">0.00</font>|<font size=\"2\" color=\"red\"><b>0.03</b></font>|<font size=\"2\" color=\"red\"><b>0.11</b></font>|<font size=\"2\" color=\"black\">0.00</font>|<font size=\"2\" color=\"red\"><b>0.19</b></font>|<font size=\"2\" color=\"red\"><b>0.07</b></font>|<font size=\"2\" color=\"black\">0.00</font>|<font size=\"2\" color=\"red\"><b>0.02</b></font>|<font size=\"2\" color=\"black\">0.00</font>|<font size=\"2\" color=\"black\">0.00</font>|<font size=\"2\" color=\"black\">0.00</font>|<font size=\"2\" color=\"black\">0.00</font>|<font size=\"2\" color=\"red\"><b>0.05</b></font>|<font size=\"2\" color=\"red\"><b>0.03</b></font>|<font size=\"2\" color=\"black\">0.00</font>|<font size=\"2\" color=\"black\">0.00</font>|<font size=\"2\" color=\"black\">0.00</font>|<font size=\"2\" color=\"red\"><b>0.16</b></font>|<font size=\"2\" color=\"black\">0.00</font>|<font size=\"2\" color=\"red\"><b>0.25</b></font>|<font size=\"2\" color=\"red\"><b>0.01</b></font>|<font size=\"2\" color=\"black\">0.00</font>|<font size=\"2\" color=\"black\">0.00</font>|<font size=\"2\" color=\"black\">0.00</font>|<font size=\"2\" color=\"red\"><b>0.09</b></font>|<font size=\"2\" color=\"black\">0.00</font>|<font size=\"2\" color=\"black\">0.00</font>|<font size=\"2\" color=\"black\">0.00</font>|<font size=\"2\" color=\"black\">0.00</font>|"
      ],
      "text/plain": [
       "<IPython.core.display.HTML object>"
      ]
     },
     "metadata": {},
     "output_type": "display_data"
    },
    {
     "data": {
      "text/html": [
       "n| <font size=\"2\" color=\"black\">0.00</font>|<font size=\"2\" color=\"red\"><b>0.02</b></font>|<font size=\"2\" color=\"red\"><b>0.06</b></font>|<font size=\"2\" color=\"red\"><b>0.05</b></font>|<font size=\"2\" color=\"red\"><b>0.04</b></font>|<font size=\"2\" color=\"red\"><b>0.06</b></font>|<font size=\"2\" color=\"black\">0.00</font>|<font size=\"2\" color=\"red\"><b>0.25</b></font>|<font size=\"2\" color=\"red\"><b>0.29</b></font>|<font size=\"2\" color=\"red\"><b>0.12</b></font>|<font size=\"2\" color=\"black\">0.00</font>|<font size=\"2\" color=\"black\">0.00</font>|<font size=\"2\" color=\"black\">0.00</font>|<font size=\"2\" color=\"black\">0.00</font>|<font size=\"2\" color=\"black\">0.00</font>|<font size=\"2\" color=\"red\"><b>0.01</b></font>|<font size=\"2\" color=\"black\">0.00</font>|<font size=\"2\" color=\"red\"><b>0.03</b></font>|<font size=\"2\" color=\"black\">0.00</font>|<font size=\"2\" color=\"black\">0.00</font>|<font size=\"2\" color=\"red\"><b>0.03</b></font>|<font size=\"2\" color=\"red\"><b>0.01</b></font>|<font size=\"2\" color=\"red\"><b>0.02</b></font>|<font size=\"2\" color=\"black\">0.00</font>|<font size=\"2\" color=\"red\"><b>0.01</b></font>|<font size=\"2\" color=\"black\">0.00</font>|<font size=\"2\" color=\"black\">0.00</font>|<font size=\"2\" color=\"black\">0.00</font>|<font size=\"2\" color=\"black\">0.00</font>|"
      ],
      "text/plain": [
       "<IPython.core.display.HTML object>"
      ]
     },
     "metadata": {},
     "output_type": "display_data"
    },
    {
     "data": {
      "text/html": [
       "s| <font size=\"2\" color=\"red\"><b>0.01</b></font>|<font size=\"2\" color=\"red\"><b>0.04</b></font>|<font size=\"2\" color=\"red\"><b>0.08</b></font>|<font size=\"2\" color=\"black\">0.00</font>|<font size=\"2\" color=\"red\"><b>0.08</b></font>|<font size=\"2\" color=\"red\"><b>0.11</b></font>|<font size=\"2\" color=\"black\">0.00</font>|<font size=\"2\" color=\"red\"><b>0.49</b></font>|<font size=\"2\" color=\"black\">0.00</font>|<font size=\"2\" color=\"black\">0.00</font>|<font size=\"2\" color=\"black\">0.00</font>|<font size=\"2\" color=\"black\">0.00</font>|<font size=\"2\" color=\"red\"><b>0.01</b></font>|<font size=\"2\" color=\"red\"><b>0.02</b></font>|<font size=\"2\" color=\"red\"><b>0.01</b></font>|<font size=\"2\" color=\"red\"><b>0.01</b></font>|<font size=\"2\" color=\"red\"><b>0.01</b></font>|<font size=\"2\" color=\"red\"><b>0.03</b></font>|<font size=\"2\" color=\"black\">0.00</font>|<font size=\"2\" color=\"red\"><b>0.05</b></font>|<font size=\"2\" color=\"red\"><b>0.01</b></font>|<font size=\"2\" color=\"black\">0.00</font>|<font size=\"2\" color=\"red\"><b>0.02</b></font>|<font size=\"2\" color=\"black\">0.00</font>|<font size=\"2\" color=\"black\">0.00</font>|<font size=\"2\" color=\"red\"><b>0.02</b></font>|<font size=\"2\" color=\"black\">0.00</font>|<font size=\"2\" color=\"black\">0.00</font>|<font size=\"2\" color=\"black\">0.00</font>|"
      ],
      "text/plain": [
       "<IPython.core.display.HTML object>"
      ]
     },
     "metadata": {},
     "output_type": "display_data"
    },
    {
     "data": {
      "text/html": [
       "v| <font size=\"2\" color=\"black\">0.00</font>|<font size=\"2\" color=\"red\"><b>0.13</b></font>|<font size=\"2\" color=\"red\"><b>0.73</b></font>|<font size=\"2\" color=\"black\">0.00</font>|<font size=\"2\" color=\"red\"><b>0.03</b></font>|<font size=\"2\" color=\"black\">0.00</font>|<font size=\"2\" color=\"black\">0.00</font>|<font size=\"2\" color=\"black\">0.00</font>|<font size=\"2\" color=\"black\">0.00</font>|<font size=\"2\" color=\"black\">0.00</font>|<font size=\"2\" color=\"black\">0.00</font>|<font size=\"2\" color=\"black\">0.00</font>|<font size=\"2\" color=\"black\">0.00</font>|<font size=\"2\" color=\"black\">0.00</font>|<font size=\"2\" color=\"black\">0.00</font>|<font size=\"2\" color=\"black\">0.00</font>|<font size=\"2\" color=\"black\">0.00</font>|<font size=\"2\" color=\"red\"><b>0.10</b></font>|<font size=\"2\" color=\"black\">0.00</font>|<font size=\"2\" color=\"black\">0.00</font>|<font size=\"2\" color=\"black\">0.00</font>|<font size=\"2\" color=\"black\">0.00</font>|<font size=\"2\" color=\"black\">0.00</font>|<font size=\"2\" color=\"black\">0.00</font>|<font size=\"2\" color=\"black\">0.00</font>|<font size=\"2\" color=\"black\">0.00</font>|<font size=\"2\" color=\"black\">0.00</font>|<font size=\"2\" color=\"black\">0.00</font>|<font size=\"2\" color=\"black\">0.00</font>|"
      ],
      "text/plain": [
       "<IPython.core.display.HTML object>"
      ]
     },
     "metadata": {},
     "output_type": "display_data"
    },
    {
     "data": {
      "text/html": [
       "k| <font size=\"2\" color=\"black\">0.00</font>|<font size=\"2\" color=\"red\"><b>0.15</b></font>|<font size=\"2\" color=\"red\"><b>0.40</b></font>|<font size=\"2\" color=\"black\">0.00</font>|<font size=\"2\" color=\"black\">0.00</font>|<font size=\"2\" color=\"black\">0.00</font>|<font size=\"2\" color=\"black\">0.00</font>|<font size=\"2\" color=\"red\"><b>0.33</b></font>|<font size=\"2\" color=\"black\">0.00</font>|<font size=\"2\" color=\"black\">0.00</font>|<font size=\"2\" color=\"black\">0.00</font>|<font size=\"2\" color=\"black\">0.00</font>|<font size=\"2\" color=\"red\"><b>0.04</b></font>|<font size=\"2\" color=\"black\">0.00</font>|<font size=\"2\" color=\"black\">0.00</font>|<font size=\"2\" color=\"black\">0.00</font>|<font size=\"2\" color=\"red\"><b>0.02</b></font>|<font size=\"2\" color=\"red\"><b>0.02</b></font>|<font size=\"2\" color=\"black\">0.00</font>|<font size=\"2\" color=\"black\">0.00</font>|<font size=\"2\" color=\"black\">0.00</font>|<font size=\"2\" color=\"red\"><b>0.02</b></font>|<font size=\"2\" color=\"red\"><b>0.02</b></font>|<font size=\"2\" color=\"black\">0.00</font>|<font size=\"2\" color=\"black\">0.00</font>|<font size=\"2\" color=\"black\">0.00</font>|<font size=\"2\" color=\"black\">0.00</font>|<font size=\"2\" color=\"black\">0.00</font>|<font size=\"2\" color=\"black\">0.00</font>|"
      ],
      "text/plain": [
       "<IPython.core.display.HTML object>"
      ]
     },
     "metadata": {},
     "output_type": "display_data"
    },
    {
     "data": {
      "text/html": [
       "q| <font size=\"2\" color=\"black\">0.00</font>|<font size=\"2\" color=\"black\">0.00</font>|<font size=\"2\" color=\"black\">0.00</font>|<font size=\"2\" color=\"black\">0.00</font>|<font size=\"2\" color=\"black\">0.00</font>|<font size=\"2\" color=\"black\">0.00</font>|<font size=\"2\" color=\"black\">0.00</font>|<font size=\"2\" color=\"black\">0.00</font>|<font size=\"2\" color=\"black\">0.00</font>|<font size=\"2\" color=\"black\">0.00</font>|<font size=\"2\" color=\"black\">0.00</font>|<font size=\"2\" color=\"black\">0.00</font>|<font size=\"2\" color=\"black\">0.00</font>|<font size=\"2\" color=\"red\"><b>1.00</b></font>|<font size=\"2\" color=\"black\">0.00</font>|<font size=\"2\" color=\"black\">0.00</font>|<font size=\"2\" color=\"black\">0.00</font>|<font size=\"2\" color=\"black\">0.00</font>|<font size=\"2\" color=\"black\">0.00</font>|<font size=\"2\" color=\"black\">0.00</font>|<font size=\"2\" color=\"black\">0.00</font>|<font size=\"2\" color=\"black\">0.00</font>|<font size=\"2\" color=\"black\">0.00</font>|<font size=\"2\" color=\"black\">0.00</font>|<font size=\"2\" color=\"black\">0.00</font>|<font size=\"2\" color=\"black\">0.00</font>|<font size=\"2\" color=\"black\">0.00</font>|<font size=\"2\" color=\"black\">0.00</font>|<font size=\"2\" color=\"black\">0.00</font>|"
      ],
      "text/plain": [
       "<IPython.core.display.HTML object>"
      ]
     },
     "metadata": {},
     "output_type": "display_data"
    },
    {
     "data": {
      "text/html": [
       "j| <font size=\"2\" color=\"black\">0.00</font>|<font size=\"2\" color=\"black\">0.00</font>|<font size=\"2\" color=\"red\"><b>0.87</b></font>|<font size=\"2\" color=\"black\">0.00</font>|<font size=\"2\" color=\"red\"><b>0.13</b></font>|<font size=\"2\" color=\"black\">0.00</font>|<font size=\"2\" color=\"black\">0.00</font>|<font size=\"2\" color=\"black\">0.00</font>|<font size=\"2\" color=\"black\">0.00</font>|<font size=\"2\" color=\"black\">0.00</font>|<font size=\"2\" color=\"black\">0.00</font>|<font size=\"2\" color=\"black\">0.00</font>|<font size=\"2\" color=\"black\">0.00</font>|<font size=\"2\" color=\"black\">0.00</font>|<font size=\"2\" color=\"black\">0.00</font>|<font size=\"2\" color=\"black\">0.00</font>|<font size=\"2\" color=\"black\">0.00</font>|<font size=\"2\" color=\"black\">0.00</font>|<font size=\"2\" color=\"black\">0.00</font>|<font size=\"2\" color=\"black\">0.00</font>|<font size=\"2\" color=\"black\">0.00</font>|<font size=\"2\" color=\"black\">0.00</font>|<font size=\"2\" color=\"black\">0.00</font>|<font size=\"2\" color=\"black\">0.00</font>|<font size=\"2\" color=\"black\">0.00</font>|<font size=\"2\" color=\"black\">0.00</font>|<font size=\"2\" color=\"black\">0.00</font>|<font size=\"2\" color=\"black\">0.00</font>|<font size=\"2\" color=\"black\">0.00</font>|"
      ],
      "text/plain": [
       "<IPython.core.display.HTML object>"
      ]
     },
     "metadata": {},
     "output_type": "display_data"
    },
    {
     "data": {
      "text/html": [
       "x| <font size=\"2\" color=\"red\"><b>1.00</b></font>|<font size=\"2\" color=\"black\">0.00</font>|<font size=\"2\" color=\"black\">0.00</font>|<font size=\"2\" color=\"black\">0.00</font>|<font size=\"2\" color=\"black\">0.00</font>|<font size=\"2\" color=\"black\">0.00</font>|<font size=\"2\" color=\"black\">0.00</font>|<font size=\"2\" color=\"black\">0.00</font>|<font size=\"2\" color=\"black\">0.00</font>|<font size=\"2\" color=\"black\">0.00</font>|<font size=\"2\" color=\"black\">0.00</font>|<font size=\"2\" color=\"black\">0.00</font>|<font size=\"2\" color=\"black\">0.00</font>|<font size=\"2\" color=\"black\">0.00</font>|<font size=\"2\" color=\"black\">0.00</font>|<font size=\"2\" color=\"black\">0.00</font>|<font size=\"2\" color=\"black\">0.00</font>|<font size=\"2\" color=\"black\">0.00</font>|<font size=\"2\" color=\"black\">0.00</font>|<font size=\"2\" color=\"black\">0.00</font>|<font size=\"2\" color=\"black\">0.00</font>|<font size=\"2\" color=\"black\">0.00</font>|<font size=\"2\" color=\"black\">0.00</font>|<font size=\"2\" color=\"black\">0.00</font>|<font size=\"2\" color=\"black\">0.00</font>|<font size=\"2\" color=\"black\">0.00</font>|<font size=\"2\" color=\"black\">0.00</font>|<font size=\"2\" color=\"black\">0.00</font>|<font size=\"2\" color=\"black\">0.00</font>|"
      ],
      "text/plain": [
       "<IPython.core.display.HTML object>"
      ]
     },
     "metadata": {},
     "output_type": "display_data"
    },
    {
     "data": {
      "text/html": [
       "z| <font size=\"2\" color=\"black\">0.00</font>|<font size=\"2\" color=\"red\"><b>0.17</b></font>|<font size=\"2\" color=\"red\"><b>0.50</b></font>|<font size=\"2\" color=\"black\">0.00</font>|<font size=\"2\" color=\"black\">0.00</font>|<font size=\"2\" color=\"black\">0.00</font>|<font size=\"2\" color=\"black\">0.00</font>|<font size=\"2\" color=\"black\">0.00</font>|<font size=\"2\" color=\"black\">0.00</font>|<font size=\"2\" color=\"black\">0.00</font>|<font size=\"2\" color=\"black\">0.00</font>|<font size=\"2\" color=\"black\">0.00</font>|<font size=\"2\" color=\"black\">0.00</font>|<font size=\"2\" color=\"black\">0.00</font>|<font size=\"2\" color=\"black\">0.00</font>|<font size=\"2\" color=\"red\"><b>0.17</b></font>|<font size=\"2\" color=\"black\">0.00</font>|<font size=\"2\" color=\"black\">0.00</font>|<font size=\"2\" color=\"black\">0.00</font>|<font size=\"2\" color=\"black\">0.00</font>|<font size=\"2\" color=\"black\">0.00</font>|<font size=\"2\" color=\"black\">0.00</font>|<font size=\"2\" color=\"black\">0.00</font>|<font size=\"2\" color=\"black\">0.00</font>|<font size=\"2\" color=\"black\">0.00</font>|<font size=\"2\" color=\"black\">0.00</font>|<font size=\"2\" color=\"black\">0.00</font>|<font size=\"2\" color=\"black\">0.00</font>|<font size=\"2\" color=\"red\"><b>0.17</b></font>|"
      ],
      "text/plain": [
       "<IPython.core.display.HTML object>"
      ]
     },
     "metadata": {},
     "output_type": "display_data"
    },
    {
     "data": {
      "text/html": [
       "<table>\n",
       "<thead>\n",
       "<tr><th style=\"text-align: right;\">    </th><th style=\"text-align: right;\">    </th><th style=\"text-align: right;\">    </th><th style=\"text-align: right;\">    </th><th style=\"text-align: right;\">    </th><th style=\"text-align: right;\">    </th><th style=\"text-align: right;\">    </th><th style=\"text-align: right;\">    </th><th style=\"text-align: right;\">    </th><th style=\"text-align: right;\">    </th><th style=\"text-align: right;\">    </th><th style=\"text-align: right;\">    </th><th style=\"text-align: right;\">    </th><th style=\"text-align: right;\">    </th><th style=\"text-align: right;\">    </th><th style=\"text-align: right;\">    </th><th style=\"text-align: right;\">    </th><th style=\"text-align: right;\">    </th><th style=\"text-align: right;\">  </th><th style=\"text-align: right;\">    </th><th style=\"text-align: right;\">    </th><th style=\"text-align: right;\">    </th><th style=\"text-align: right;\">    </th><th style=\"text-align: right;\">    </th><th style=\"text-align: right;\">    </th><th style=\"text-align: right;\">    </th><th style=\"text-align: right;\">    </th><th style=\"text-align: right;\">  </th><th style=\"text-align: right;\">   a</th></tr>\n",
       "</thead>\n",
       "<tbody>\n",
       "<tr><td style=\"text-align: right;\">0.11</td><td style=\"text-align: right;\">0.13</td><td style=\"text-align: right;\">0.25</td><td style=\"text-align: right;\">0.07</td><td style=\"text-align: right;\">0.05</td><td style=\"text-align: right;\">0.02</td><td style=\"text-align: right;\">0   </td><td style=\"text-align: right;\">0.08</td><td style=\"text-align: right;\">0   </td><td style=\"text-align: right;\">0   </td><td style=\"text-align: right;\">0   </td><td style=\"text-align: right;\">0   </td><td style=\"text-align: right;\">0.15</td><td style=\"text-align: right;\">0.07</td><td style=\"text-align: right;\">0   </td><td style=\"text-align: right;\">0.02</td><td style=\"text-align: right;\">0   </td><td style=\"text-align: right;\">0.05</td><td style=\"text-align: right;\"> 0</td><td style=\"text-align: right;\">0   </td><td style=\"text-align: right;\">0   </td><td style=\"text-align: right;\">0   </td><td style=\"text-align: right;\">0   </td><td style=\"text-align: right;\">0   </td><td style=\"text-align: right;\">0   </td><td style=\"text-align: right;\">0   </td><td style=\"text-align: right;\">0   </td><td style=\"text-align: right;\"> 0</td><td style=\"text-align: right;\">0   </td></tr>\n",
       "<tr><td style=\"text-align: right;\">0.01</td><td style=\"text-align: right;\">0   </td><td style=\"text-align: right;\">0.08</td><td style=\"text-align: right;\">0.08</td><td style=\"text-align: right;\">0.02</td><td style=\"text-align: right;\">0.15</td><td style=\"text-align: right;\">0   </td><td style=\"text-align: right;\">0.06</td><td style=\"text-align: right;\">0.03</td><td style=\"text-align: right;\">0.04</td><td style=\"text-align: right;\">0.03</td><td style=\"text-align: right;\">0   </td><td style=\"text-align: right;\">0.03</td><td style=\"text-align: right;\">0.01</td><td style=\"text-align: right;\">0.05</td><td style=\"text-align: right;\">0   </td><td style=\"text-align: right;\">0   </td><td style=\"text-align: right;\">0.01</td><td style=\"text-align: right;\"> 0</td><td style=\"text-align: right;\">0   </td><td style=\"text-align: right;\">0.04</td><td style=\"text-align: right;\">0.24</td><td style=\"text-align: right;\">0.09</td><td style=\"text-align: right;\">0.02</td><td style=\"text-align: right;\">0.01</td><td style=\"text-align: right;\">0   </td><td style=\"text-align: right;\">0   </td><td style=\"text-align: right;\"> 0</td><td style=\"text-align: right;\">0   </td></tr>\n",
       "<tr><td style=\"text-align: right;\">0.01</td><td style=\"text-align: right;\">0.02</td><td style=\"text-align: right;\">0.03</td><td style=\"text-align: right;\">0.15</td><td style=\"text-align: right;\">0   </td><td style=\"text-align: right;\">0.02</td><td style=\"text-align: right;\">0   </td><td style=\"text-align: right;\">0.35</td><td style=\"text-align: right;\">0.1 </td><td style=\"text-align: right;\">0.01</td><td style=\"text-align: right;\">0   </td><td style=\"text-align: right;\">0   </td><td style=\"text-align: right;\">0.04</td><td style=\"text-align: right;\">0   </td><td style=\"text-align: right;\">0.01</td><td style=\"text-align: right;\">0.02</td><td style=\"text-align: right;\">0   </td><td style=\"text-align: right;\">0.07</td><td style=\"text-align: right;\"> 0</td><td style=\"text-align: right;\">0   </td><td style=\"text-align: right;\">0.01</td><td style=\"text-align: right;\">0.09</td><td style=\"text-align: right;\">0.05</td><td style=\"text-align: right;\">0.01</td><td style=\"text-align: right;\">0   </td><td style=\"text-align: right;\">0   </td><td style=\"text-align: right;\">0   </td><td style=\"text-align: right;\"> 0</td><td style=\"text-align: right;\">0   </td></tr>\n",
       "<tr><td style=\"text-align: right;\">0   </td><td style=\"text-align: right;\">0.12</td><td style=\"text-align: right;\">0.25</td><td style=\"text-align: right;\">0.04</td><td style=\"text-align: right;\">0.11</td><td style=\"text-align: right;\">0.04</td><td style=\"text-align: right;\">0   </td><td style=\"text-align: right;\">0.18</td><td style=\"text-align: right;\">0.03</td><td style=\"text-align: right;\">0.01</td><td style=\"text-align: right;\">0.01</td><td style=\"text-align: right;\">0   </td><td style=\"text-align: right;\">0.01</td><td style=\"text-align: right;\">0.01</td><td style=\"text-align: right;\">0.01</td><td style=\"text-align: right;\">0.02</td><td style=\"text-align: right;\">0   </td><td style=\"text-align: right;\">0.06</td><td style=\"text-align: right;\"> 0</td><td style=\"text-align: right;\">0   </td><td style=\"text-align: right;\">0   </td><td style=\"text-align: right;\">0.03</td><td style=\"text-align: right;\">0.04</td><td style=\"text-align: right;\">0   </td><td style=\"text-align: right;\">0.02</td><td style=\"text-align: right;\">0   </td><td style=\"text-align: right;\">0   </td><td style=\"text-align: right;\"> 0</td><td style=\"text-align: right;\">0   </td></tr>\n",
       "<tr><td style=\"text-align: right;\">0.01</td><td style=\"text-align: right;\">0.01</td><td style=\"text-align: right;\">0   </td><td style=\"text-align: right;\">0.11</td><td style=\"text-align: right;\">0.05</td><td style=\"text-align: right;\">0.07</td><td style=\"text-align: right;\">0   </td><td style=\"text-align: right;\">0.12</td><td style=\"text-align: right;\">0.01</td><td style=\"text-align: right;\">0.05</td><td style=\"text-align: right;\">0.11</td><td style=\"text-align: right;\">0   </td><td style=\"text-align: right;\">0.05</td><td style=\"text-align: right;\">0.14</td><td style=\"text-align: right;\">0.06</td><td style=\"text-align: right;\">0   </td><td style=\"text-align: right;\">0.03</td><td style=\"text-align: right;\">0   </td><td style=\"text-align: right;\"> 0</td><td style=\"text-align: right;\">0   </td><td style=\"text-align: right;\">0   </td><td style=\"text-align: right;\">0.11</td><td style=\"text-align: right;\">0.02</td><td style=\"text-align: right;\">0.01</td><td style=\"text-align: right;\">0.01</td><td style=\"text-align: right;\">0   </td><td style=\"text-align: right;\">0   </td><td style=\"text-align: right;\"> 0</td><td style=\"text-align: right;\">0.01</td></tr>\n",
       "<tr><td style=\"text-align: right;\">0   </td><td style=\"text-align: right;\">0.03</td><td style=\"text-align: right;\">0.06</td><td style=\"text-align: right;\">0.03</td><td style=\"text-align: right;\">0.09</td><td style=\"text-align: right;\">0.03</td><td style=\"text-align: right;\">0   </td><td style=\"text-align: right;\">0.29</td><td style=\"text-align: right;\">0   </td><td style=\"text-align: right;\">0   </td><td style=\"text-align: right;\">0   </td><td style=\"text-align: right;\">0   </td><td style=\"text-align: right;\">0.04</td><td style=\"text-align: right;\">0.01</td><td style=\"text-align: right;\">0   </td><td style=\"text-align: right;\">0   </td><td style=\"text-align: right;\">0   </td><td style=\"text-align: right;\">0.02</td><td style=\"text-align: right;\"> 0</td><td style=\"text-align: right;\">0.35</td><td style=\"text-align: right;\">0   </td><td style=\"text-align: right;\">0   </td><td style=\"text-align: right;\">0.03</td><td style=\"text-align: right;\">0   </td><td style=\"text-align: right;\">0   </td><td style=\"text-align: right;\">0   </td><td style=\"text-align: right;\">0   </td><td style=\"text-align: right;\"> 0</td><td style=\"text-align: right;\">0   </td></tr>\n",
       "<tr><td style=\"text-align: right;\">0   </td><td style=\"text-align: right;\">0   </td><td style=\"text-align: right;\">0   </td><td style=\"text-align: right;\">0   </td><td style=\"text-align: right;\">0   </td><td style=\"text-align: right;\">0   </td><td style=\"text-align: right;\">0   </td><td style=\"text-align: right;\">1   </td><td style=\"text-align: right;\">0   </td><td style=\"text-align: right;\">0   </td><td style=\"text-align: right;\">0   </td><td style=\"text-align: right;\">0   </td><td style=\"text-align: right;\">0   </td><td style=\"text-align: right;\">0   </td><td style=\"text-align: right;\">0   </td><td style=\"text-align: right;\">0   </td><td style=\"text-align: right;\">0   </td><td style=\"text-align: right;\">0   </td><td style=\"text-align: right;\"> 0</td><td style=\"text-align: right;\">0   </td><td style=\"text-align: right;\">0   </td><td style=\"text-align: right;\">0   </td><td style=\"text-align: right;\">0   </td><td style=\"text-align: right;\">0   </td><td style=\"text-align: right;\">0   </td><td style=\"text-align: right;\">0   </td><td style=\"text-align: right;\">0   </td><td style=\"text-align: right;\"> 0</td><td style=\"text-align: right;\">0   </td></tr>\n",
       "<tr><td style=\"text-align: right;\">0.04</td><td style=\"text-align: right;\">0.03</td><td style=\"text-align: right;\">0.01</td><td style=\"text-align: right;\">0.01</td><td style=\"text-align: right;\">0.06</td><td style=\"text-align: right;\">0.14</td><td style=\"text-align: right;\">0   </td><td style=\"text-align: right;\">0   </td><td style=\"text-align: right;\">0.05</td><td style=\"text-align: right;\">0.02</td><td style=\"text-align: right;\">0.05</td><td style=\"text-align: right;\">0.06</td><td style=\"text-align: right;\">0.04</td><td style=\"text-align: right;\">0   </td><td style=\"text-align: right;\">0.04</td><td style=\"text-align: right;\">0.01</td><td style=\"text-align: right;\">0.07</td><td style=\"text-align: right;\">0.13</td><td style=\"text-align: right;\"> 0</td><td style=\"text-align: right;\">0.09</td><td style=\"text-align: right;\">0.04</td><td style=\"text-align: right;\">0.02</td><td style=\"text-align: right;\">0.06</td><td style=\"text-align: right;\">0.01</td><td style=\"text-align: right;\">0.01</td><td style=\"text-align: right;\">0   </td><td style=\"text-align: right;\">0.01</td><td style=\"text-align: right;\"> 0</td><td style=\"text-align: right;\">0   </td></tr>\n",
       "<tr><td style=\"text-align: right;\">0   </td><td style=\"text-align: right;\">0.05</td><td style=\"text-align: right;\">0.1 </td><td style=\"text-align: right;\">0.04</td><td style=\"text-align: right;\">0.1 </td><td style=\"text-align: right;\">0   </td><td style=\"text-align: right;\">0   </td><td style=\"text-align: right;\">0.58</td><td style=\"text-align: right;\">0.01</td><td style=\"text-align: right;\">0   </td><td style=\"text-align: right;\">0.01</td><td style=\"text-align: right;\">0   </td><td style=\"text-align: right;\">0.02</td><td style=\"text-align: right;\">0.01</td><td style=\"text-align: right;\">0   </td><td style=\"text-align: right;\">0.01</td><td style=\"text-align: right;\">0   </td><td style=\"text-align: right;\">0.04</td><td style=\"text-align: right;\"> 0</td><td style=\"text-align: right;\">0   </td><td style=\"text-align: right;\">0   </td><td style=\"text-align: right;\">0   </td><td style=\"text-align: right;\">0.04</td><td style=\"text-align: right;\">0   </td><td style=\"text-align: right;\">0   </td><td style=\"text-align: right;\">0   </td><td style=\"text-align: right;\">0   </td><td style=\"text-align: right;\"> 0</td><td style=\"text-align: right;\">0   </td></tr>\n",
       "<tr><td style=\"text-align: right;\">0   </td><td style=\"text-align: right;\">0.04</td><td style=\"text-align: right;\">0.09</td><td style=\"text-align: right;\">0.12</td><td style=\"text-align: right;\">0.03</td><td style=\"text-align: right;\">0.01</td><td style=\"text-align: right;\">0   </td><td style=\"text-align: right;\">0.32</td><td style=\"text-align: right;\">0   </td><td style=\"text-align: right;\">0.04</td><td style=\"text-align: right;\">0   </td><td style=\"text-align: right;\">0   </td><td style=\"text-align: right;\">0.01</td><td style=\"text-align: right;\">0.04</td><td style=\"text-align: right;\">0   </td><td style=\"text-align: right;\">0.02</td><td style=\"text-align: right;\">0   </td><td style=\"text-align: right;\">0.04</td><td style=\"text-align: right;\"> 0</td><td style=\"text-align: right;\">0.12</td><td style=\"text-align: right;\">0   </td><td style=\"text-align: right;\">0.01</td><td style=\"text-align: right;\">0.11</td><td style=\"text-align: right;\">0   </td><td style=\"text-align: right;\">0   </td><td style=\"text-align: right;\">0   </td><td style=\"text-align: right;\">0   </td><td style=\"text-align: right;\"> 0</td><td style=\"text-align: right;\">0   </td></tr>\n",
       "<tr><td style=\"text-align: right;\">0   </td><td style=\"text-align: right;\">0.07</td><td style=\"text-align: right;\">0.09</td><td style=\"text-align: right;\">0.1 </td><td style=\"text-align: right;\">0.19</td><td style=\"text-align: right;\">0.04</td><td style=\"text-align: right;\">0   </td><td style=\"text-align: right;\">0.33</td><td style=\"text-align: right;\">0   </td><td style=\"text-align: right;\">0   </td><td style=\"text-align: right;\">0.04</td><td style=\"text-align: right;\">0   </td><td style=\"text-align: right;\">0.04</td><td style=\"text-align: right;\">0.07</td><td style=\"text-align: right;\">0   </td><td style=\"text-align: right;\">0   </td><td style=\"text-align: right;\">0   </td><td style=\"text-align: right;\">0.06</td><td style=\"text-align: right;\"> 0</td><td style=\"text-align: right;\">0   </td><td style=\"text-align: right;\">0   </td><td style=\"text-align: right;\">0   </td><td style=\"text-align: right;\">0   </td><td style=\"text-align: right;\">0   </td><td style=\"text-align: right;\">0   </td><td style=\"text-align: right;\">0   </td><td style=\"text-align: right;\">0   </td><td style=\"text-align: right;\"> 0</td><td style=\"text-align: right;\">0   </td></tr>\n",
       "<tr><td style=\"text-align: right;\">0   </td><td style=\"text-align: right;\">0.1 </td><td style=\"text-align: right;\">0.21</td><td style=\"text-align: right;\">0.13</td><td style=\"text-align: right;\">0.11</td><td style=\"text-align: right;\">0   </td><td style=\"text-align: right;\">0   </td><td style=\"text-align: right;\">0.02</td><td style=\"text-align: right;\">0   </td><td style=\"text-align: right;\">0   </td><td style=\"text-align: right;\">0   </td><td style=\"text-align: right;\">0.02</td><td style=\"text-align: right;\">0.13</td><td style=\"text-align: right;\">0.13</td><td style=\"text-align: right;\">0   </td><td style=\"text-align: right;\">0.03</td><td style=\"text-align: right;\">0   </td><td style=\"text-align: right;\">0.1 </td><td style=\"text-align: right;\"> 0</td><td style=\"text-align: right;\">0   </td><td style=\"text-align: right;\">0   </td><td style=\"text-align: right;\">0   </td><td style=\"text-align: right;\">0   </td><td style=\"text-align: right;\">0   </td><td style=\"text-align: right;\">0   </td><td style=\"text-align: right;\">0   </td><td style=\"text-align: right;\">0   </td><td style=\"text-align: right;\"> 0</td><td style=\"text-align: right;\">0   </td></tr>\n",
       "<tr><td style=\"text-align: right;\">0   </td><td style=\"text-align: right;\">0.12</td><td style=\"text-align: right;\">0.21</td><td style=\"text-align: right;\">0   </td><td style=\"text-align: right;\">0.11</td><td style=\"text-align: right;\">0.01</td><td style=\"text-align: right;\">0   </td><td style=\"text-align: right;\">0.1 </td><td style=\"text-align: right;\">0.09</td><td style=\"text-align: right;\">0.02</td><td style=\"text-align: right;\">0.01</td><td style=\"text-align: right;\">0   </td><td style=\"text-align: right;\">0.12</td><td style=\"text-align: right;\">0.03</td><td style=\"text-align: right;\">0   </td><td style=\"text-align: right;\">0.07</td><td style=\"text-align: right;\">0   </td><td style=\"text-align: right;\">0.07</td><td style=\"text-align: right;\"> 0</td><td style=\"text-align: right;\">0   </td><td style=\"text-align: right;\">0   </td><td style=\"text-align: right;\">0   </td><td style=\"text-align: right;\">0.03</td><td style=\"text-align: right;\">0   </td><td style=\"text-align: right;\">0.02</td><td style=\"text-align: right;\">0   </td><td style=\"text-align: right;\">0   </td><td style=\"text-align: right;\"> 0</td><td style=\"text-align: right;\">0   </td></tr>\n",
       "<tr><td style=\"text-align: right;\">0.06</td><td style=\"text-align: right;\">0.02</td><td style=\"text-align: right;\">0.02</td><td style=\"text-align: right;\">0.1 </td><td style=\"text-align: right;\">0   </td><td style=\"text-align: right;\">0.15</td><td style=\"text-align: right;\">0   </td><td style=\"text-align: right;\">0.01</td><td style=\"text-align: right;\">0.02</td><td style=\"text-align: right;\">0.1 </td><td style=\"text-align: right;\">0   </td><td style=\"text-align: right;\">0.01</td><td style=\"text-align: right;\">0.12</td><td style=\"text-align: right;\">0   </td><td style=\"text-align: right;\">0.04</td><td style=\"text-align: right;\">0.01</td><td style=\"text-align: right;\">0   </td><td style=\"text-align: right;\">0.02</td><td style=\"text-align: right;\"> 0</td><td style=\"text-align: right;\">0   </td><td style=\"text-align: right;\">0.03</td><td style=\"text-align: right;\">0.14</td><td style=\"text-align: right;\">0.14</td><td style=\"text-align: right;\">0   </td><td style=\"text-align: right;\">0.01</td><td style=\"text-align: right;\">0   </td><td style=\"text-align: right;\">0   </td><td style=\"text-align: right;\"> 0</td><td style=\"text-align: right;\">0.01</td></tr>\n",
       "<tr><td style=\"text-align: right;\">0.02</td><td style=\"text-align: right;\">0.07</td><td style=\"text-align: right;\">0.25</td><td style=\"text-align: right;\">0   </td><td style=\"text-align: right;\">0.09</td><td style=\"text-align: right;\">0   </td><td style=\"text-align: right;\">0.01</td><td style=\"text-align: right;\">0.2 </td><td style=\"text-align: right;\">0   </td><td style=\"text-align: right;\">0   </td><td style=\"text-align: right;\">0   </td><td style=\"text-align: right;\">0.05</td><td style=\"text-align: right;\">0   </td><td style=\"text-align: right;\">0.05</td><td style=\"text-align: right;\">0   </td><td style=\"text-align: right;\">0   </td><td style=\"text-align: right;\">0   </td><td style=\"text-align: right;\">0.2 </td><td style=\"text-align: right;\"> 0</td><td style=\"text-align: right;\">0   </td><td style=\"text-align: right;\">0   </td><td style=\"text-align: right;\">0   </td><td style=\"text-align: right;\">0.05</td><td style=\"text-align: right;\">0   </td><td style=\"text-align: right;\">0   </td><td style=\"text-align: right;\">0   </td><td style=\"text-align: right;\">0   </td><td style=\"text-align: right;\"> 0</td><td style=\"text-align: right;\">0   </td></tr>\n",
       "<tr><td style=\"text-align: right;\">0   </td><td style=\"text-align: right;\">0   </td><td style=\"text-align: right;\">0.09</td><td style=\"text-align: right;\">0   </td><td style=\"text-align: right;\">0.04</td><td style=\"text-align: right;\">0.01</td><td style=\"text-align: right;\">0   </td><td style=\"text-align: right;\">0.8 </td><td style=\"text-align: right;\">0   </td><td style=\"text-align: right;\">0   </td><td style=\"text-align: right;\">0   </td><td style=\"text-align: right;\">0.01</td><td style=\"text-align: right;\">0   </td><td style=\"text-align: right;\">0   </td><td style=\"text-align: right;\">0   </td><td style=\"text-align: right;\">0   </td><td style=\"text-align: right;\">0   </td><td style=\"text-align: right;\">0.01</td><td style=\"text-align: right;\"> 0</td><td style=\"text-align: right;\">0   </td><td style=\"text-align: right;\">0   </td><td style=\"text-align: right;\">0   </td><td style=\"text-align: right;\">0.02</td><td style=\"text-align: right;\">0   </td><td style=\"text-align: right;\">0.01</td><td style=\"text-align: right;\">0   </td><td style=\"text-align: right;\">0   </td><td style=\"text-align: right;\"> 0</td><td style=\"text-align: right;\">0   </td></tr>\n",
       "<tr><td style=\"text-align: right;\">0   </td><td style=\"text-align: right;\">0.12</td><td style=\"text-align: right;\">0.17</td><td style=\"text-align: right;\">0.01</td><td style=\"text-align: right;\">0.12</td><td style=\"text-align: right;\">0   </td><td style=\"text-align: right;\">0   </td><td style=\"text-align: right;\">0.08</td><td style=\"text-align: right;\">0   </td><td style=\"text-align: right;\">0   </td><td style=\"text-align: right;\">0   </td><td style=\"text-align: right;\">0   </td><td style=\"text-align: right;\">0.01</td><td style=\"text-align: right;\">0   </td><td style=\"text-align: right;\">0   </td><td style=\"text-align: right;\">0   </td><td style=\"text-align: right;\">0   </td><td style=\"text-align: right;\">0.27</td><td style=\"text-align: right;\"> 0</td><td style=\"text-align: right;\">0.14</td><td style=\"text-align: right;\">0   </td><td style=\"text-align: right;\">0.06</td><td style=\"text-align: right;\">0.02</td><td style=\"text-align: right;\">0   </td><td style=\"text-align: right;\">0.01</td><td style=\"text-align: right;\">0   </td><td style=\"text-align: right;\">0   </td><td style=\"text-align: right;\"> 0</td><td style=\"text-align: right;\">0   </td></tr>\n",
       "<tr><td style=\"text-align: right;\">0.01</td><td style=\"text-align: right;\">0.02</td><td style=\"text-align: right;\">0.01</td><td style=\"text-align: right;\">0.11</td><td style=\"text-align: right;\">0   </td><td style=\"text-align: right;\">0.1 </td><td style=\"text-align: right;\">0   </td><td style=\"text-align: right;\">0.06</td><td style=\"text-align: right;\">0.07</td><td style=\"text-align: right;\">0.03</td><td style=\"text-align: right;\">0.01</td><td style=\"text-align: right;\">0.03</td><td style=\"text-align: right;\">0.06</td><td style=\"text-align: right;\">0.02</td><td style=\"text-align: right;\">0.01</td><td style=\"text-align: right;\">0.04</td><td style=\"text-align: right;\">0.02</td><td style=\"text-align: right;\">0   </td><td style=\"text-align: right;\"> 0</td><td style=\"text-align: right;\">0   </td><td style=\"text-align: right;\">0.04</td><td style=\"text-align: right;\">0.26</td><td style=\"text-align: right;\">0.08</td><td style=\"text-align: right;\">0.01</td><td style=\"text-align: right;\">0.02</td><td style=\"text-align: right;\">0   </td><td style=\"text-align: right;\">0   </td><td style=\"text-align: right;\"> 0</td><td style=\"text-align: right;\">0   </td></tr>\n",
       "<tr><td style=\"text-align: right;\">0   </td><td style=\"text-align: right;\">0   </td><td style=\"text-align: right;\">0   </td><td style=\"text-align: right;\">0   </td><td style=\"text-align: right;\">0   </td><td style=\"text-align: right;\">0   </td><td style=\"text-align: right;\">0   </td><td style=\"text-align: right;\">1   </td><td style=\"text-align: right;\">0   </td><td style=\"text-align: right;\">0   </td><td style=\"text-align: right;\">0   </td><td style=\"text-align: right;\">0   </td><td style=\"text-align: right;\">0   </td><td style=\"text-align: right;\">0   </td><td style=\"text-align: right;\">0   </td><td style=\"text-align: right;\">0   </td><td style=\"text-align: right;\">0   </td><td style=\"text-align: right;\">0   </td><td style=\"text-align: right;\"> 0</td><td style=\"text-align: right;\">0   </td><td style=\"text-align: right;\">0   </td><td style=\"text-align: right;\">0   </td><td style=\"text-align: right;\">0   </td><td style=\"text-align: right;\">0   </td><td style=\"text-align: right;\">0   </td><td style=\"text-align: right;\">0   </td><td style=\"text-align: right;\">0   </td><td style=\"text-align: right;\"> 0</td><td style=\"text-align: right;\">0   </td></tr>\n",
       "<tr><td style=\"text-align: right;\">0   </td><td style=\"text-align: right;\">0.13</td><td style=\"text-align: right;\">0.48</td><td style=\"text-align: right;\">0   </td><td style=\"text-align: right;\">0.08</td><td style=\"text-align: right;\">0.04</td><td style=\"text-align: right;\">0   </td><td style=\"text-align: right;\">0.09</td><td style=\"text-align: right;\">0   </td><td style=\"text-align: right;\">0   </td><td style=\"text-align: right;\">0   </td><td style=\"text-align: right;\">0   </td><td style=\"text-align: right;\">0   </td><td style=\"text-align: right;\">0.03</td><td style=\"text-align: right;\">0   </td><td style=\"text-align: right;\">0   </td><td style=\"text-align: right;\">0   </td><td style=\"text-align: right;\">0.15</td><td style=\"text-align: right;\"> 0</td><td style=\"text-align: right;\">0   </td><td style=\"text-align: right;\">0   </td><td style=\"text-align: right;\">0   </td><td style=\"text-align: right;\">0   </td><td style=\"text-align: right;\">0   </td><td style=\"text-align: right;\">0   </td><td style=\"text-align: right;\">0   </td><td style=\"text-align: right;\">0   </td><td style=\"text-align: right;\"> 0</td><td style=\"text-align: right;\">0   </td></tr>\n",
       "<tr><td style=\"text-align: right;\">0   </td><td style=\"text-align: right;\">0.03</td><td style=\"text-align: right;\">0.11</td><td style=\"text-align: right;\">0   </td><td style=\"text-align: right;\">0.19</td><td style=\"text-align: right;\">0.07</td><td style=\"text-align: right;\">0   </td><td style=\"text-align: right;\">0.02</td><td style=\"text-align: right;\">0   </td><td style=\"text-align: right;\">0   </td><td style=\"text-align: right;\">0   </td><td style=\"text-align: right;\">0   </td><td style=\"text-align: right;\">0.05</td><td style=\"text-align: right;\">0.03</td><td style=\"text-align: right;\">0   </td><td style=\"text-align: right;\">0   </td><td style=\"text-align: right;\">0   </td><td style=\"text-align: right;\">0.16</td><td style=\"text-align: right;\"> 0</td><td style=\"text-align: right;\">0.25</td><td style=\"text-align: right;\">0.01</td><td style=\"text-align: right;\">0   </td><td style=\"text-align: right;\">0   </td><td style=\"text-align: right;\">0   </td><td style=\"text-align: right;\">0.09</td><td style=\"text-align: right;\">0   </td><td style=\"text-align: right;\">0   </td><td style=\"text-align: right;\"> 0</td><td style=\"text-align: right;\">0   </td></tr>\n",
       "<tr><td style=\"text-align: right;\">0   </td><td style=\"text-align: right;\">0.02</td><td style=\"text-align: right;\">0.06</td><td style=\"text-align: right;\">0.05</td><td style=\"text-align: right;\">0.04</td><td style=\"text-align: right;\">0.06</td><td style=\"text-align: right;\">0   </td><td style=\"text-align: right;\">0.25</td><td style=\"text-align: right;\">0.29</td><td style=\"text-align: right;\">0.12</td><td style=\"text-align: right;\">0   </td><td style=\"text-align: right;\">0   </td><td style=\"text-align: right;\">0   </td><td style=\"text-align: right;\">0   </td><td style=\"text-align: right;\">0   </td><td style=\"text-align: right;\">0.01</td><td style=\"text-align: right;\">0   </td><td style=\"text-align: right;\">0.03</td><td style=\"text-align: right;\"> 0</td><td style=\"text-align: right;\">0   </td><td style=\"text-align: right;\">0.03</td><td style=\"text-align: right;\">0.01</td><td style=\"text-align: right;\">0.02</td><td style=\"text-align: right;\">0   </td><td style=\"text-align: right;\">0.01</td><td style=\"text-align: right;\">0   </td><td style=\"text-align: right;\">0   </td><td style=\"text-align: right;\"> 0</td><td style=\"text-align: right;\">0   </td></tr>\n",
       "<tr><td style=\"text-align: right;\">0.01</td><td style=\"text-align: right;\">0.04</td><td style=\"text-align: right;\">0.08</td><td style=\"text-align: right;\">0   </td><td style=\"text-align: right;\">0.08</td><td style=\"text-align: right;\">0.11</td><td style=\"text-align: right;\">0   </td><td style=\"text-align: right;\">0.49</td><td style=\"text-align: right;\">0   </td><td style=\"text-align: right;\">0   </td><td style=\"text-align: right;\">0   </td><td style=\"text-align: right;\">0   </td><td style=\"text-align: right;\">0.01</td><td style=\"text-align: right;\">0.02</td><td style=\"text-align: right;\">0.01</td><td style=\"text-align: right;\">0.01</td><td style=\"text-align: right;\">0.01</td><td style=\"text-align: right;\">0.03</td><td style=\"text-align: right;\"> 0</td><td style=\"text-align: right;\">0.05</td><td style=\"text-align: right;\">0.01</td><td style=\"text-align: right;\">0   </td><td style=\"text-align: right;\">0.02</td><td style=\"text-align: right;\">0   </td><td style=\"text-align: right;\">0   </td><td style=\"text-align: right;\">0.02</td><td style=\"text-align: right;\">0   </td><td style=\"text-align: right;\"> 0</td><td style=\"text-align: right;\">0   </td></tr>\n",
       "<tr><td style=\"text-align: right;\">0   </td><td style=\"text-align: right;\">0.13</td><td style=\"text-align: right;\">0.73</td><td style=\"text-align: right;\">0   </td><td style=\"text-align: right;\">0.03</td><td style=\"text-align: right;\">0   </td><td style=\"text-align: right;\">0   </td><td style=\"text-align: right;\">0   </td><td style=\"text-align: right;\">0   </td><td style=\"text-align: right;\">0   </td><td style=\"text-align: right;\">0   </td><td style=\"text-align: right;\">0   </td><td style=\"text-align: right;\">0   </td><td style=\"text-align: right;\">0   </td><td style=\"text-align: right;\">0   </td><td style=\"text-align: right;\">0   </td><td style=\"text-align: right;\">0   </td><td style=\"text-align: right;\">0.1 </td><td style=\"text-align: right;\"> 0</td><td style=\"text-align: right;\">0   </td><td style=\"text-align: right;\">0   </td><td style=\"text-align: right;\">0   </td><td style=\"text-align: right;\">0   </td><td style=\"text-align: right;\">0   </td><td style=\"text-align: right;\">0   </td><td style=\"text-align: right;\">0   </td><td style=\"text-align: right;\">0   </td><td style=\"text-align: right;\"> 0</td><td style=\"text-align: right;\">0   </td></tr>\n",
       "<tr><td style=\"text-align: right;\">0   </td><td style=\"text-align: right;\">0.15</td><td style=\"text-align: right;\">0.4 </td><td style=\"text-align: right;\">0   </td><td style=\"text-align: right;\">0   </td><td style=\"text-align: right;\">0   </td><td style=\"text-align: right;\">0   </td><td style=\"text-align: right;\">0.33</td><td style=\"text-align: right;\">0   </td><td style=\"text-align: right;\">0   </td><td style=\"text-align: right;\">0   </td><td style=\"text-align: right;\">0   </td><td style=\"text-align: right;\">0.04</td><td style=\"text-align: right;\">0   </td><td style=\"text-align: right;\">0   </td><td style=\"text-align: right;\">0   </td><td style=\"text-align: right;\">0.02</td><td style=\"text-align: right;\">0.02</td><td style=\"text-align: right;\"> 0</td><td style=\"text-align: right;\">0   </td><td style=\"text-align: right;\">0   </td><td style=\"text-align: right;\">0.02</td><td style=\"text-align: right;\">0.02</td><td style=\"text-align: right;\">0   </td><td style=\"text-align: right;\">0   </td><td style=\"text-align: right;\">0   </td><td style=\"text-align: right;\">0   </td><td style=\"text-align: right;\"> 0</td><td style=\"text-align: right;\">0   </td></tr>\n",
       "<tr><td style=\"text-align: right;\">0   </td><td style=\"text-align: right;\">0   </td><td style=\"text-align: right;\">0   </td><td style=\"text-align: right;\">0   </td><td style=\"text-align: right;\">0   </td><td style=\"text-align: right;\">0   </td><td style=\"text-align: right;\">0   </td><td style=\"text-align: right;\">0   </td><td style=\"text-align: right;\">0   </td><td style=\"text-align: right;\">0   </td><td style=\"text-align: right;\">0   </td><td style=\"text-align: right;\">0   </td><td style=\"text-align: right;\">0   </td><td style=\"text-align: right;\">1   </td><td style=\"text-align: right;\">0   </td><td style=\"text-align: right;\">0   </td><td style=\"text-align: right;\">0   </td><td style=\"text-align: right;\">0   </td><td style=\"text-align: right;\"> 0</td><td style=\"text-align: right;\">0   </td><td style=\"text-align: right;\">0   </td><td style=\"text-align: right;\">0   </td><td style=\"text-align: right;\">0   </td><td style=\"text-align: right;\">0   </td><td style=\"text-align: right;\">0   </td><td style=\"text-align: right;\">0   </td><td style=\"text-align: right;\">0   </td><td style=\"text-align: right;\"> 0</td><td style=\"text-align: right;\">0   </td></tr>\n",
       "<tr><td style=\"text-align: right;\">0   </td><td style=\"text-align: right;\">0   </td><td style=\"text-align: right;\">0.87</td><td style=\"text-align: right;\">0   </td><td style=\"text-align: right;\">0.13</td><td style=\"text-align: right;\">0   </td><td style=\"text-align: right;\">0   </td><td style=\"text-align: right;\">0   </td><td style=\"text-align: right;\">0   </td><td style=\"text-align: right;\">0   </td><td style=\"text-align: right;\">0   </td><td style=\"text-align: right;\">0   </td><td style=\"text-align: right;\">0   </td><td style=\"text-align: right;\">0   </td><td style=\"text-align: right;\">0   </td><td style=\"text-align: right;\">0   </td><td style=\"text-align: right;\">0   </td><td style=\"text-align: right;\">0   </td><td style=\"text-align: right;\"> 0</td><td style=\"text-align: right;\">0   </td><td style=\"text-align: right;\">0   </td><td style=\"text-align: right;\">0   </td><td style=\"text-align: right;\">0   </td><td style=\"text-align: right;\">0   </td><td style=\"text-align: right;\">0   </td><td style=\"text-align: right;\">0   </td><td style=\"text-align: right;\">0   </td><td style=\"text-align: right;\"> 0</td><td style=\"text-align: right;\">0   </td></tr>\n",
       "<tr><td style=\"text-align: right;\">1   </td><td style=\"text-align: right;\">0   </td><td style=\"text-align: right;\">0   </td><td style=\"text-align: right;\">0   </td><td style=\"text-align: right;\">0   </td><td style=\"text-align: right;\">0   </td><td style=\"text-align: right;\">0   </td><td style=\"text-align: right;\">0   </td><td style=\"text-align: right;\">0   </td><td style=\"text-align: right;\">0   </td><td style=\"text-align: right;\">0   </td><td style=\"text-align: right;\">0   </td><td style=\"text-align: right;\">0   </td><td style=\"text-align: right;\">0   </td><td style=\"text-align: right;\">0   </td><td style=\"text-align: right;\">0   </td><td style=\"text-align: right;\">0   </td><td style=\"text-align: right;\">0   </td><td style=\"text-align: right;\"> 0</td><td style=\"text-align: right;\">0   </td><td style=\"text-align: right;\">0   </td><td style=\"text-align: right;\">0   </td><td style=\"text-align: right;\">0   </td><td style=\"text-align: right;\">0   </td><td style=\"text-align: right;\">0   </td><td style=\"text-align: right;\">0   </td><td style=\"text-align: right;\">0   </td><td style=\"text-align: right;\"> 0</td><td style=\"text-align: right;\">0   </td></tr>\n",
       "<tr><td style=\"text-align: right;\">0   </td><td style=\"text-align: right;\">0.17</td><td style=\"text-align: right;\">0.5 </td><td style=\"text-align: right;\">0   </td><td style=\"text-align: right;\">0   </td><td style=\"text-align: right;\">0   </td><td style=\"text-align: right;\">0   </td><td style=\"text-align: right;\">0   </td><td style=\"text-align: right;\">0   </td><td style=\"text-align: right;\">0   </td><td style=\"text-align: right;\">0   </td><td style=\"text-align: right;\">0   </td><td style=\"text-align: right;\">0   </td><td style=\"text-align: right;\">0   </td><td style=\"text-align: right;\">0   </td><td style=\"text-align: right;\">0.17</td><td style=\"text-align: right;\">0   </td><td style=\"text-align: right;\">0   </td><td style=\"text-align: right;\"> 0</td><td style=\"text-align: right;\">0   </td><td style=\"text-align: right;\">0   </td><td style=\"text-align: right;\">0   </td><td style=\"text-align: right;\">0   </td><td style=\"text-align: right;\">0   </td><td style=\"text-align: right;\">0   </td><td style=\"text-align: right;\">0   </td><td style=\"text-align: right;\">0   </td><td style=\"text-align: right;\"> 0</td><td style=\"text-align: right;\">0.17</td></tr>\n",
       "</tbody>\n",
       "</table>"
      ],
      "text/plain": [
       "<IPython.core.display.HTML object>"
      ]
     },
     "metadata": {},
     "output_type": "display_data"
    }
   ],
   "source": [
    "from IPython.display import display, Markdown, HTML\n",
    "\n",
    "# dict with keys to the matrix\n",
    "letters = list(xfile.replace(\"\\n\", \"\").lower())\n",
    "letter_to_key = {}\n",
    "key_to_letter = {}\n",
    "cnt = 0\n",
    "for i in letters:\n",
    "    if i not in letter_to_key:\n",
    "        letter_to_key[i] = cnt\n",
    "        key_to_letter[cnt] = i\n",
    "        cnt += 1\n",
    "matrix = np.zeros((len(letter_to_key), len(letter_to_key)))\n",
    "\n",
    "# counts in matrix\n",
    "for i, letter in enumerate(letters[:-1]):\n",
    "    matrix[letter_to_key[letter]][letter_to_key[letters[i+1]]] += 1\n",
    "    \n",
    "# transition matrix - need sum of row == 1\n",
    "P = matrix/np.sum(matrix, 1)[:, np.newaxis]\n",
    "\n",
    "\n",
    "string = ' |'\n",
    "for j in key_to_letter:\n",
    "    string = string + '<font size=\"2\" color=\"black\"> {} </font>|'.format(key_to_letter[j])\n",
    "display(HTML(string))\n",
    "    \n",
    "# print the matrix\n",
    "for i, row in enumerate(P):\n",
    "    string = key_to_letter[i]+'| '\n",
    "    for j, letter_cnt in enumerate(row):\n",
    "        if round(letter_cnt, 2) == 0:\n",
    "            string = string + '<font size=\"2\" color=\"black\">{0:.2f}</font>|'.format(round(letter_cnt, 2))\n",
    "        else:\n",
    "            string = string + '<font size=\"2\" color=\"red\"><b>{0:.2f}</b></font>|'.format(round(letter_cnt, 2))\n",
    "    display(HTML(string))\n",
    "    \n",
    "# try print as table\n",
    "table = P.round(2)\n",
    "display(HTML(tabulate.tabulate(table, tablefmt='html', headers = ['a'])))"
   ]
  },
  {
   "cell_type": "markdown",
   "metadata": {},
   "source": [
    "### Příklad 3"
   ]
  },
  {
   "cell_type": "markdown",
   "metadata": {},
   "source": [
    " Při hledání stacionárního rozdělení vycházíme z rovnosti $\\pi = \\pi P$. Dále že pokud platí $\\vec{v} P = \\lambda \\vec{v}$, potom také $(\\alpha \\vec{v}) P = \\lambda (\\alpha \\vec{v})$. Z dokumnetace scipy metoda eig vrací jako druhý argument: *The normalized left eigenvector corresponding to the eigenvalue w[i] is the column vl[:,i]. Only returned if left=True*."
   ]
  },
  {
   "cell_type": "code",
   "execution_count": 69,
   "metadata": {
    "scrolled": true
   },
   "outputs": [
    {
     "name": "stdout",
     "output_type": "stream",
     "text": [
      "Stacionary distribution\n",
      "[1.39846205e-02 4.59924066e-02 1.01994761e-01 5.44738342e-02\n",
      " 6.18536309e-02 6.73979107e-02 3.07747283e-04 1.85601668e-01\n",
      " 4.69262579e-02 2.20088141e-02 2.12347538e-02 1.50814659e-02\n",
      " 3.85932560e-02 2.46153263e-02 1.69257852e-02 1.30767711e-02\n",
      " 1.81592446e-02 6.77060272e-02 1.53877335e-04 5.18785635e-02\n",
      " 1.56952306e-02 5.46203074e-02 4.47920949e-02 4.61583354e-03\n",
      " 8.00092027e-03 9.23461875e-04 2.30847846e-03 1.53838252e-04\n",
      " 9.23112969e-04]\n",
      "\n",
      "Check sum:  0.9999999999999999\n",
      "\n",
      "[0.014  0.046  0.102  0.0545 0.0619 0.0674 0.0003 0.1856 0.0469 0.022\n",
      " 0.0212 0.0151 0.0386 0.0246 0.0169 0.0131 0.0182 0.0677 0.0002 0.0519\n",
      " 0.0157 0.0546 0.0448 0.0046 0.008  0.0009 0.0023 0.0002 0.0009]\n",
      "\n",
      "\n",
      "Check sum after round:  1.0001\n"
     ]
    }
   ],
   "source": [
    "# Solve an ordinary or generalized eigenvalue problem of a square matrix.\n",
    "v = scipy.linalg.eig(P.astype(np.float),left=True,right=False)\n",
    "# The eigenvalues, each repeated according to its multiplicity.\n",
    "v = v[1]\n",
    "# get first column\n",
    "v = v[:,0]\n",
    "stacionary_distribution = v / sum(v)\n",
    "print(\"Stacionary distribution\")\n",
    "print(stacionary_distribution.real)\n",
    "print(\"\\nCheck sum: \", stacionary_distribution.sum().real)\n",
    "print()\n",
    "stacionary_distribution_round = (v / sum(v)).round(4).real\n",
    "print(stacionary_distribution_round)\n",
    "print()\n",
    "print(\"\\nCheck sum after round: \", stacionary_distribution_round.sum())"
   ]
  },
  {
   "cell_type": "markdown",
   "metadata": {},
   "source": [
    "### Příklad 4"
   ]
  },
  {
   "cell_type": "markdown",
   "metadata": {},
   "source": [
    "* Na následujícím grafu je znázorněno srovnání empirických četností výskytu znaků s teoretickými četnostmi, které vycházejí ze stacionárního rozdělení.\n",
    "* Je dobře vidět, že jsou obě sady četností téměř identické, tudíž předpokládáme, že ani nebude možné zamítnout jejich shodu ve prospěch alternativy, tedy že jsou nezávislé. K tomuto využijeme testu dobré shody."
   ]
  },
  {
   "cell_type": "code",
   "execution_count": 22,
   "metadata": {},
   "outputs": [],
   "source": [
    "y_values = []\n",
    "for l in xletters:\n",
    "    y_values.append(stacionary_distribution.real[letter_to_key[l]])"
   ]
  },
  {
   "cell_type": "code",
   "execution_count": 23,
   "metadata": {},
   "outputs": [
    {
     "data": {
      "image/png": "[encoded data removed]",
      "text/plain": [
       "<Figure size 1080x360 with 1 Axes>"
      ]
     },
     "metadata": {
      "needs_background": "light"
     },
     "output_type": "display_data"
    }
   ],
   "source": [
    "fig, ax = plt.subplots(1, 1, figsize=(15, 5))\n",
    "ax.bar(xletters, xletter_cnt, fc=(0, 1, 0.48, 1), lw=3)\n",
    "ax.bar(xletters, np.array(y_values)*len(xfile), fc=(1, 0, 0.52, 0.5), lw=3)\n",
    "ax.bar([1], [0], color=(0, 0, 0.249, 0.5))\n",
    "ax.set_xlabel('znak', fontsize=16)\n",
    "ax.set_ylabel('počet', fontsize=16)\n",
    "ax.set_title('Empirické a stacionární četnosti', fontsize=22)\n",
    "plt.legend(['Výběrové četnosti', 'Stacionární četnosti', 'Průnik'], fontsize=16)\n",
    "for tick in ax.xaxis.get_major_ticks():\n",
    "    tick.label.set_fontsize(14)\n",
    "for tick in ax.yaxis.get_major_ticks():\n",
    "    tick.label.set_fontsize(14)\n",
    "plt.show()"
   ]
  },
  {
   "cell_type": "code",
   "execution_count": 24,
   "metadata": {},
   "outputs": [],
   "source": [
    "stationary_counts = np.array(y_values)*len(xfile)"
   ]
  },
  {
   "cell_type": "code",
   "execution_count": 25,
   "metadata": {},
   "outputs": [],
   "source": [
    "def merge_bins(counts):\n",
    "    flag = True\n",
    "    while(flag):\n",
    "        flag = False\n",
    "        merged_arr = []\n",
    "        waiting = 0\n",
    "        for val in counts:\n",
    "            if val+waiting > 4:\n",
    "                merged_arr.append(val+waiting)\n",
    "                waiting = 0\n",
    "            else:\n",
    "                flag = True\n",
    "                waiting += val;\n",
    "                \n",
    "        if waiting > 0:\n",
    "            merged_arr[-1] += waiting\n",
    "        counts = merged_arr\n",
    "    return np.array(counts)"
   ]
  },
  {
   "cell_type": "code",
   "execution_count": 26,
   "metadata": {},
   "outputs": [
    {
     "name": "stdout",
     "output_type": "stream",
     "text": [
      "Četnosti mají shodnou délku po spojení binů? Ano\n"
     ]
    }
   ],
   "source": [
    "merged_stationary_counts = merge_bins(stationary_counts)\n",
    "merged_xletter_cnt = merge_bins(xletter_cnt)\n",
    "print(\"Četnosti mají shodnou délku po spojení binů?\", \"Ano\" if len(merged_stationary_counts) == len(merged_xletter_cnt) else \"Ne\")"
   ]
  },
  {
   "cell_type": "markdown",
   "metadata": {},
   "source": [
    "#### Test dobré shody\n",
    "* $H_0$ pro nás představuje dobrou shodu empirických a stacionárního rozdělení\n",
    "* $H_A$ představuje jejich nezávislost"
   ]
  },
  {
   "cell_type": "code",
   "execution_count": 27,
   "metadata": {
    "scrolled": false
   },
   "outputs": [
    {
     "name": "stdout",
     "output_type": "stream",
     "text": [
      "Hodnota testové statistiky:  0.014022647231326082\n",
      "Kritická hodnota:  37.65248413348277\n",
      "p-hodnota: 1.0\n",
      "--------------------\n",
      "Zamítáme:  Ne\n"
     ]
    }
   ],
   "source": [
    "chi, p = stats.chisquare(merged_xletter_cnt, merged_stationary_counts)\n",
    "crit = stats.chi2.isf(0.05, len(merged_stationary_counts) - 1)\n",
    "print(\"Hodnota testové statistiky: \", chi)\n",
    "print(\"Kritická hodnota: \", crit)\n",
    "print(\"p-hodnota:\", p)\n",
    "print(\"-\"*20 + \"\\nZamítáme: \", \"Ano\" if chi >= crit else \"Ne\")"
   ]
  },
  {
   "cell_type": "markdown",
   "metadata": {},
   "source": [
    "* Na hladině 5% nezámítáme hypotézu $H_0$, tedy $H_A$ je statisticky nevýznamné a může nastat chyba 2. druhu o které nic nevíme. Ale z vysoké p-hodnoty můžeme s téměř sto procentní jistotou říct, že chyba 2. druhu nenastane a platí hypotéza $H_0$, jak jsme předpokládali. Tedy empirické četnosti a vektor stacionárního rozdělení mají shodné rozdělení. "
   ]
  }
 ],
 "metadata": {
  "kernelspec": {
   "display_name": "Python 3",
   "language": "python",
   "name": "python3"
  },
  "language_info": {
   "codemirror_mode": {
    "name": "ipython",
    "version": 3
   },
   "file_extension": ".py",
   "mimetype": "text/x-python",
   "name": "python",
   "nbconvert_exporter": "python",
   "pygments_lexer": "ipython3",
   "version": "3.5.3"
  }
 },
 "nbformat": 4,
 "nbformat_minor": 2
}
